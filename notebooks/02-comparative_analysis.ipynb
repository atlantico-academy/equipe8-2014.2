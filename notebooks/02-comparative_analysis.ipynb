{
 "cells": [
  {
   "cell_type": "markdown",
   "id": "b837e1ee-2c10-4baf-a755-fcd851d2ca40",
   "metadata": {},
   "source": [
    "# Análise comparativa"
   ]
  },
  {
   "cell_type": "code",
   "execution_count": 1,
   "id": "76d47352-17c2-4046-a868-e7ec5e870a6f",
   "metadata": {
    "tags": []
   },
   "outputs": [],
   "source": [
    "from IPython.display import display, Markdown\n",
    "import joblib\n",
    "import numpy as np\n",
    "import pandas as pd\n",
    "\n",
    "from sklearn.pipeline import Pipeline\n",
    "from sklearn.impute import SimpleImputer\n",
    "from sklearn.preprocessing import StandardScaler, OneHotEncoder, OrdinalEncoder\n",
    "from sklearn.compose import ColumnTransformer\n",
    "\n",
    "from sklearn.model_selection import ShuffleSplit, GridSearchCV, KFold, cross_validate\n",
    "from sklearn.linear_model import LinearRegression\n",
    "from sklearn.neighbors import KNeighborsRegressor\n",
    "from sklearn.ensemble import GradientBoostingRegressor, RandomForestRegressor\n",
    "from sklearn.tree import DecisionTreeRegressor"
   ]
  },
  {
   "cell_type": "markdown",
   "id": "d6821558-3c26-4b1b-b2ac-8ef422219bb8",
   "metadata": {},
   "source": [
    "## 1. Obtenção dos dados:"
   ]
  },
  {
   "cell_type": "code",
   "execution_count": 2,
   "id": "b9b8116c-9ee8-4482-9135-52955b501757",
   "metadata": {
    "tags": []
   },
   "outputs": [
    {
     "data": {
      "text/html": [
       "<div>\n",
       "<style scoped>\n",
       "    .dataframe tbody tr th:only-of-type {\n",
       "        vertical-align: middle;\n",
       "    }\n",
       "\n",
       "    .dataframe tbody tr th {\n",
       "        vertical-align: top;\n",
       "    }\n",
       "\n",
       "    .dataframe thead th {\n",
       "        text-align: right;\n",
       "    }\n",
       "</style>\n",
       "<table border=\"1\" class=\"dataframe\">\n",
       "  <thead>\n",
       "    <tr style=\"text-align: right;\">\n",
       "      <th></th>\n",
       "      <th>variavel</th>\n",
       "      <th>descricao</th>\n",
       "      <th>tipo</th>\n",
       "      <th>subtipo</th>\n",
       "    </tr>\n",
       "  </thead>\n",
       "  <tbody>\n",
       "    <tr>\n",
       "      <th>0</th>\n",
       "      <td>instant</td>\n",
       "      <td>Índice de registro</td>\n",
       "      <td>quantitativa</td>\n",
       "      <td>discreta</td>\n",
       "    </tr>\n",
       "    <tr>\n",
       "      <th>1</th>\n",
       "      <td>dteday</td>\n",
       "      <td>Data</td>\n",
       "      <td>qualitativa</td>\n",
       "      <td>ordinal</td>\n",
       "    </tr>\n",
       "    <tr>\n",
       "      <th>2</th>\n",
       "      <td>season</td>\n",
       "      <td>Estação do ano</td>\n",
       "      <td>qualitativa</td>\n",
       "      <td>ordinal</td>\n",
       "    </tr>\n",
       "    <tr>\n",
       "      <th>3</th>\n",
       "      <td>yr</td>\n",
       "      <td>Ano</td>\n",
       "      <td>qualitativa</td>\n",
       "      <td>ordinal</td>\n",
       "    </tr>\n",
       "    <tr>\n",
       "      <th>4</th>\n",
       "      <td>mnth</td>\n",
       "      <td>Mês</td>\n",
       "      <td>qualitativa</td>\n",
       "      <td>ordinal</td>\n",
       "    </tr>\n",
       "    <tr>\n",
       "      <th>5</th>\n",
       "      <td>holiday</td>\n",
       "      <td>Se o dia é feriado ou não</td>\n",
       "      <td>qualitativa</td>\n",
       "      <td>nominal</td>\n",
       "    </tr>\n",
       "    <tr>\n",
       "      <th>6</th>\n",
       "      <td>weekday</td>\n",
       "      <td>Dia da semana</td>\n",
       "      <td>qualitativa</td>\n",
       "      <td>nominal</td>\n",
       "    </tr>\n",
       "    <tr>\n",
       "      <th>7</th>\n",
       "      <td>workingday</td>\n",
       "      <td>Se o dia não é fim de semana e nem feriado</td>\n",
       "      <td>qualitativa</td>\n",
       "      <td>nominal</td>\n",
       "    </tr>\n",
       "    <tr>\n",
       "      <th>8</th>\n",
       "      <td>weathersit</td>\n",
       "      <td>Clima</td>\n",
       "      <td>qualitativa</td>\n",
       "      <td>nominal</td>\n",
       "    </tr>\n",
       "    <tr>\n",
       "      <th>9</th>\n",
       "      <td>temp</td>\n",
       "      <td>Temperatura normalizada em Celsius</td>\n",
       "      <td>quantitativa</td>\n",
       "      <td>contínua</td>\n",
       "    </tr>\n",
       "    <tr>\n",
       "      <th>10</th>\n",
       "      <td>atemp</td>\n",
       "      <td>Temperatura de sensação normalizada em Celsius</td>\n",
       "      <td>quantitativa</td>\n",
       "      <td>contínua</td>\n",
       "    </tr>\n",
       "    <tr>\n",
       "      <th>11</th>\n",
       "      <td>hum</td>\n",
       "      <td>Umidade do ar</td>\n",
       "      <td>quantitiva</td>\n",
       "      <td>contínua</td>\n",
       "    </tr>\n",
       "    <tr>\n",
       "      <th>12</th>\n",
       "      <td>windspeed</td>\n",
       "      <td>Velocidade do vento</td>\n",
       "      <td>quantitiva</td>\n",
       "      <td>contínua</td>\n",
       "    </tr>\n",
       "    <tr>\n",
       "      <th>13</th>\n",
       "      <td>casual</td>\n",
       "      <td>Contagem de usuários casuais</td>\n",
       "      <td>quantitiva</td>\n",
       "      <td>discreta</td>\n",
       "    </tr>\n",
       "    <tr>\n",
       "      <th>14</th>\n",
       "      <td>registered</td>\n",
       "      <td>Contagem de usuários registrados</td>\n",
       "      <td>quantitiva</td>\n",
       "      <td>discreta</td>\n",
       "    </tr>\n",
       "    <tr>\n",
       "      <th>15</th>\n",
       "      <td>cnt</td>\n",
       "      <td>Contagem total de bicicletas alugadas, incluin...</td>\n",
       "      <td>quantitiva</td>\n",
       "      <td>discreta</td>\n",
       "    </tr>\n",
       "  </tbody>\n",
       "</table>\n",
       "</div>"
      ],
      "text/plain": [
       "      variavel                                          descricao  \\\n",
       "0      instant                                 Índice de registro   \n",
       "1       dteday                                               Data   \n",
       "2       season                                     Estação do ano   \n",
       "3           yr                                                Ano   \n",
       "4         mnth                                                Mês   \n",
       "5      holiday                          Se o dia é feriado ou não   \n",
       "6      weekday                                      Dia da semana   \n",
       "7   workingday         Se o dia não é fim de semana e nem feriado   \n",
       "8   weathersit                                              Clima   \n",
       "9         temp                 Temperatura normalizada em Celsius   \n",
       "10       atemp     Temperatura de sensação normalizada em Celsius   \n",
       "11         hum                                      Umidade do ar   \n",
       "12   windspeed                                Velocidade do vento   \n",
       "13      casual                       Contagem de usuários casuais   \n",
       "14  registered                   Contagem de usuários registrados   \n",
       "15         cnt  Contagem total de bicicletas alugadas, incluin...   \n",
       "\n",
       "            tipo   subtipo  \n",
       "0   quantitativa  discreta  \n",
       "1    qualitativa   ordinal  \n",
       "2    qualitativa   ordinal  \n",
       "3    qualitativa   ordinal  \n",
       "4    qualitativa   ordinal  \n",
       "5    qualitativa   nominal  \n",
       "6    qualitativa   nominal  \n",
       "7    qualitativa   nominal  \n",
       "8    qualitativa   nominal  \n",
       "9   quantitativa  contínua  \n",
       "10  quantitativa  contínua  \n",
       "11    quantitiva  contínua  \n",
       "12    quantitiva  contínua  \n",
       "13    quantitiva  discreta  \n",
       "14    quantitiva  discreta  \n",
       "15    quantitiva  discreta  "
      ]
     },
     "execution_count": 2,
     "metadata": {},
     "output_type": "execute_result"
    }
   ],
   "source": [
    "df = pd.read_csv(\"../data/raw/day.csv\")\n",
    "df['dteday'] = pd.to_datetime(df['dteday'])\n",
    "df_dict = pd.read_csv(\"../data/external/dictionary.csv\")\n",
    "df_dict"
   ]
  },
  {
   "cell_type": "markdown",
   "id": "3e67c7e6-c133-4ff8-871a-d4e1a8e132b7",
   "metadata": {},
   "source": [
    "---"
   ]
  },
  {
   "cell_type": "markdown",
   "id": "2e0c1fc4-8764-4347-8389-8ad0b7d3291d",
   "metadata": {},
   "source": [
    "## 2. Preparação de dados:"
   ]
  },
  {
   "cell_type": "code",
   "execution_count": 3,
   "id": "3ee02410-060d-482d-ae22-1efce480dc8e",
   "metadata": {
    "tags": []
   },
   "outputs": [
    {
     "name": "stdout",
     "output_type": "stream",
     "text": [
      "Dados faltantes por coluna:\n",
      "instant       0\n",
      "dteday        0\n",
      "season        0\n",
      "yr            0\n",
      "mnth          0\n",
      "holiday       0\n",
      "weekday       0\n",
      "workingday    0\n",
      "weathersit    0\n",
      "temp          0\n",
      "atemp         0\n",
      "hum           0\n",
      "windspeed     0\n",
      "casual        0\n",
      "registered    0\n",
      "cnt           0\n",
      "dtype: int64\n"
     ]
    }
   ],
   "source": [
    "print(\"Dados faltantes por coluna:\")\n",
    "print(df.isnull().sum())"
   ]
  },
  {
   "cell_type": "code",
   "execution_count": 4,
   "id": "978ca630-47b5-4011-b108-ab5b6492ec6e",
   "metadata": {
    "tags": []
   },
   "outputs": [],
   "source": [
    "target_column = 'cnt'\n",
    "\n",
    "nominal_columns = (\n",
    "    df_dict\n",
    "    .query(\"subtipo == 'nominal'\")\n",
    "    .variavel\n",
    "    .to_list()\n",
    ")\n",
    "\n",
    "continuous_columns = (\n",
    "    df_dict\n",
    "    .query(\"subtipo == 'contínua'\")\n",
    "    .variavel\n",
    "    .to_list()\n",
    ")\n",
    "\n",
    "ordinal_columns = (\n",
    "    df_dict\n",
    "    .query(\"subtipo == 'ordinal' and variavel != 'dteday'\")\n",
    "    .variavel\n",
    "    .to_list()\n",
    ")\n",
    "\n",
    "discrete_columns = (\n",
    "    df_dict\n",
    "    .query(\"subtipo == 'discreta' and variavel != @target_column\")\n",
    "    .variavel\n",
    "    .to_list()\n",
    ")\n",
    "\n",
    "X = df.drop(columns=[target_column], axis=1)\n",
    "y = df[target_column]"
   ]
  },
  {
   "cell_type": "code",
   "execution_count": 5,
   "id": "3f0346d7-3228-44af-bfb5-12f0712979ee",
   "metadata": {
    "tags": []
   },
   "outputs": [],
   "source": [
    "if 'dteday' in X.columns:\n",
    "    X['year'] = X['dteday'].dt.year\n",
    "    X['month'] = X['dteday'].dt.month\n",
    "    X['day'] = X['dteday'].dt.day\n",
    "    X = X.drop(columns=['dteday'])\n",
    "\n",
    "nominal_preprocessor = Pipeline([\n",
    "    ('missing', SimpleImputer(strategy='most_frequent')), \n",
    "    ('encoding', OneHotEncoder(sparse_output=False, drop='first')), \n",
    "    ('normalization', StandardScaler())  \n",
    "])\n",
    "\n",
    "continuous_preprocessor = Pipeline([\n",
    "    ('missing', SimpleImputer(strategy='mean')),  \n",
    "    ('normalization', StandardScaler()) \n",
    "])\n",
    "\n",
    "ordinal_preprocessor = Pipeline([\n",
    "    ('missing', SimpleImputer(strategy='most_frequent')),\n",
    "    ('encoding', OrdinalEncoder()), \n",
    "    ('normalization', StandardScaler())\n",
    "])\n",
    "\n",
    "discrete_preprocessor = Pipeline([\n",
    "    ('missing', SimpleImputer(strategy='most_frequent')), \n",
    "    ('normalization', StandardScaler()) \n",
    "])\n",
    "\n",
    "preprocessor = ColumnTransformer([\n",
    "    ('nominal', nominal_preprocessor, nominal_columns),\n",
    "    ('ordinal', ordinal_preprocessor, ordinal_columns),\n",
    "    ('discrete', discrete_preprocessor, discrete_columns),\n",
    "    ('continuous', continuous_preprocessor, continuous_columns)\n",
    "])\n",
    "\n",
    "X_preprocessed = continuous_preprocessor.fit_transform(df[continuous_columns])\n",
    "model = LinearRegression()\n",
    "\n",
    "final_pipeline = Pipeline([\n",
    "    ('preprocessing', preprocessor),\n",
    "    ('model', model)\n",
    "])"
   ]
  },
  {
   "cell_type": "code",
   "execution_count": 6,
   "id": "e144b0d5-2285-49c9-95b2-15a796e179da",
   "metadata": {
    "tags": []
   },
   "outputs": [
    {
     "data": {
      "text/plain": [
       "(731, 20)"
      ]
     },
     "execution_count": 6,
     "metadata": {},
     "output_type": "execute_result"
    }
   ],
   "source": [
    "X_prepared = preprocessor.fit_transform(X)\n",
    "X_prepared.shape"
   ]
  },
  {
   "cell_type": "code",
   "execution_count": 7,
   "id": "e4a589c6-aebc-42b7-8b96-b564784db2b8",
   "metadata": {
    "tags": []
   },
   "outputs": [
    {
     "name": "stdout",
     "output_type": "stream",
     "text": [
      "Dados pré-processados:\n",
      "[[-0.171981   -0.40955052 -0.40727045 ... -0.67994602  1.25017133\n",
      "  -0.38789169]\n",
      " [-0.171981   -0.40955052 -0.40727045 ... -0.74065231  0.47911298\n",
      "   0.74960172]\n",
      " [-0.171981    2.4417012  -0.40727045 ... -1.749767   -1.33927398\n",
      "   0.74663186]\n",
      " ...\n",
      " [-0.171981   -0.40955052 -0.40727045 ... -1.42434419  0.87839173\n",
      "  -0.85355213]\n",
      " [-0.171981   -0.40955052 -0.40727045 ... -1.49004895 -1.01566357\n",
      "   2.06944426]\n",
      " [-0.171981    2.4417012  -0.40727045 ... -1.54048197 -0.35406086\n",
      "  -0.46020122]]\n"
     ]
    }
   ],
   "source": [
    "X_prepared = preprocessor.fit_transform(X)\n",
    "print(\"Dados pré-processados:\")\n",
    "print(X_prepared)"
   ]
  },
  {
   "cell_type": "markdown",
   "id": "111add7e-e2e2-4d19-aa97-47c998f7d2a9",
   "metadata": {},
   "source": [
    "---"
   ]
  },
  {
   "cell_type": "markdown",
   "id": "33e33101-a682-4cc2-9adf-362464aa7791",
   "metadata": {},
   "source": [
    "## 3. Seleção de modelos\n"
   ]
  },
  {
   "cell_type": "markdown",
   "id": "427be09a-8f36-4600-9ec6-9daaf68f4e49",
   "metadata": {},
   "source": [
    "Iremos análisar quatro modelos, que serão testados utilizando um método de validação, a saber:\n",
    "\n",
    "- K-Nearest Neighbors\n",
    "- Gradient Boosting\n",
    "- Decision Tree\n",
    "- Random Forest\n",
    "\n",
    "Além disso, cada um desses algoritmos será testado com diferentes hiper-parametros, para que possamos encontrar o melhor modelo e a melhor configuração possível para esse modelo.\n",
    "\n",
    "Utilizaremos as seguintes métricas para análise:\n",
    "\n",
    "- **Neg Mean Squared Error ('neg_mean_squared_error')**: O erro quadrático médio (MSE) é a média dos quadrados das diferenças entre os valores previstos e os valores reais. É uma medida que penaliza erros maiores de forma mais severa, já que os erros são elevados ao quadrado.\n",
    "- **Neg Mean Absolute Error ('neg_mean_absolute_error')**: O erro absoluto médio (MAE) é a média das diferenças absolutas entre os valores previstos e os valores reais. Ao contrário do MSE, o MAE não penaliza erros maiores mais severamente.\n",
    "- **R² ('r2')**: O R², ou coeficiente de determinação, mede a proporção da variabilidade total dos dados que é explicada pelo modelo. Em outras palavras, indica o quão bem os valores previstos se ajustam aos valores reais."
   ]
  },
  {
   "cell_type": "code",
   "execution_count": 8,
   "id": "d18ec4ad-8cd7-408e-b700-7bb953934592",
   "metadata": {
    "tags": []
   },
   "outputs": [],
   "source": [
    "n_splits_comparative_analysis = 10\n",
    "n_folds_grid_search = 5\n",
    "test_size = .2\n",
    "random_state = 42\n",
    "scoring = 'neg_mean_squared_error'\n",
    "metrics = ['neg_mean_squared_error', 'neg_mean_absolute_error', 'r2']\n",
    "\n",
    "max_iter = 1000 \n",
    "models = [\n",
    "    ('K-Nearest Neighbors', KNeighborsRegressor(), {\n",
    "        \"n_neighbors\": range(3, 20, 2), \n",
    "        'weights': ['uniform', 'distance']\n",
    "    }),\n",
    "    ('Gradient Boosting', GradientBoostingRegressor(random_state=random_state), {\n",
    "        'n_estimators': [50, 100, 150],\n",
    "        'learning_rate': [0.01, 0.1, 0.2],\n",
    "        'max_depth': [3, 5, 7]\n",
    "    }),\n",
    "     ('Decision Tree',  DecisionTreeRegressor(random_state=random_state), {\n",
    "        'criterion': ['squared_error', 'friedman_mse', 'absolute_error', 'poisson'], \n",
    "        'max_depth': [3, 6, 8]\n",
    "    }),\n",
    "    ('Random Forest',  RandomForestRegressor(random_state=random_state), {\n",
    "        'criterion': ['squared_error', 'absolute_error'],\n",
    "        'max_depth': [3, 6, 8], \n",
    "        'n_estimators': [10, 30]\n",
    "    }),\n",
    "]"
   ]
  },
  {
   "cell_type": "code",
   "execution_count": 9,
   "id": "38a1312c-22be-4db7-89a4-12a69fe2c940",
   "metadata": {
    "tags": []
   },
   "outputs": [
    {
     "name": "stdout",
     "output_type": "stream",
     "text": [
      "running K-Nearest Neighbors...\n"
     ]
    },
    {
     "data": {
      "text/html": [
       "<div>\n",
       "<style scoped>\n",
       "    .dataframe tbody tr th:only-of-type {\n",
       "        vertical-align: middle;\n",
       "    }\n",
       "\n",
       "    .dataframe tbody tr th {\n",
       "        vertical-align: top;\n",
       "    }\n",
       "\n",
       "    .dataframe thead th {\n",
       "        text-align: right;\n",
       "    }\n",
       "</style>\n",
       "<table border=\"1\" class=\"dataframe\">\n",
       "  <thead>\n",
       "    <tr style=\"text-align: right;\">\n",
       "      <th></th>\n",
       "      <th>fit_time</th>\n",
       "      <th>score_time</th>\n",
       "      <th>test_neg_mean_squared_error</th>\n",
       "      <th>test_neg_mean_absolute_error</th>\n",
       "      <th>test_r2</th>\n",
       "      <th>model_name</th>\n",
       "    </tr>\n",
       "  </thead>\n",
       "  <tbody>\n",
       "    <tr>\n",
       "      <th>mean</th>\n",
       "      <td>0.778052</td>\n",
       "      <td>0.029866</td>\n",
       "      <td>-495085.285587</td>\n",
       "      <td>-521.421224</td>\n",
       "      <td>0.867283</td>\n",
       "      <td>K-Nearest Neighbors</td>\n",
       "    </tr>\n",
       "    <tr>\n",
       "      <th>std</th>\n",
       "      <td>0.125487</td>\n",
       "      <td>0.014388</td>\n",
       "      <td>98807.812136</td>\n",
       "      <td>56.917455</td>\n",
       "      <td>0.024541</td>\n",
       "      <td>K-Nearest Neighbors</td>\n",
       "    </tr>\n",
       "  </tbody>\n",
       "</table>\n",
       "</div>"
      ],
      "text/plain": [
       "      fit_time  score_time  test_neg_mean_squared_error  \\\n",
       "mean  0.778052    0.029866               -495085.285587   \n",
       "std   0.125487    0.014388                 98807.812136   \n",
       "\n",
       "      test_neg_mean_absolute_error   test_r2           model_name  \n",
       "mean                   -521.421224  0.867283  K-Nearest Neighbors  \n",
       "std                      56.917455  0.024541  K-Nearest Neighbors  "
      ]
     },
     "metadata": {},
     "output_type": "display_data"
    },
    {
     "name": "stdout",
     "output_type": "stream",
     "text": [
      "running Gradient Boosting...\n"
     ]
    },
    {
     "data": {
      "text/html": [
       "<div>\n",
       "<style scoped>\n",
       "    .dataframe tbody tr th:only-of-type {\n",
       "        vertical-align: middle;\n",
       "    }\n",
       "\n",
       "    .dataframe tbody tr th {\n",
       "        vertical-align: top;\n",
       "    }\n",
       "\n",
       "    .dataframe thead th {\n",
       "        text-align: right;\n",
       "    }\n",
       "</style>\n",
       "<table border=\"1\" class=\"dataframe\">\n",
       "  <thead>\n",
       "    <tr style=\"text-align: right;\">\n",
       "      <th></th>\n",
       "      <th>fit_time</th>\n",
       "      <th>score_time</th>\n",
       "      <th>test_neg_mean_squared_error</th>\n",
       "      <th>test_neg_mean_absolute_error</th>\n",
       "      <th>test_r2</th>\n",
       "      <th>model_name</th>\n",
       "    </tr>\n",
       "  </thead>\n",
       "  <tbody>\n",
       "    <tr>\n",
       "      <th>mean</th>\n",
       "      <td>42.909599</td>\n",
       "      <td>0.016341</td>\n",
       "      <td>-11775.561442</td>\n",
       "      <td>-68.763639</td>\n",
       "      <td>0.996826</td>\n",
       "      <td>Gradient Boosting</td>\n",
       "    </tr>\n",
       "    <tr>\n",
       "      <th>std</th>\n",
       "      <td>8.347175</td>\n",
       "      <td>0.001307</td>\n",
       "      <td>3159.517240</td>\n",
       "      <td>7.482689</td>\n",
       "      <td>0.000856</td>\n",
       "      <td>Gradient Boosting</td>\n",
       "    </tr>\n",
       "  </tbody>\n",
       "</table>\n",
       "</div>"
      ],
      "text/plain": [
       "       fit_time  score_time  test_neg_mean_squared_error  \\\n",
       "mean  42.909599    0.016341                -11775.561442   \n",
       "std    8.347175    0.001307                  3159.517240   \n",
       "\n",
       "      test_neg_mean_absolute_error   test_r2         model_name  \n",
       "mean                    -68.763639  0.996826  Gradient Boosting  \n",
       "std                       7.482689  0.000856  Gradient Boosting  "
      ]
     },
     "metadata": {},
     "output_type": "display_data"
    },
    {
     "name": "stdout",
     "output_type": "stream",
     "text": [
      "running Decision Tree...\n"
     ]
    },
    {
     "data": {
      "text/html": [
       "<div>\n",
       "<style scoped>\n",
       "    .dataframe tbody tr th:only-of-type {\n",
       "        vertical-align: middle;\n",
       "    }\n",
       "\n",
       "    .dataframe tbody tr th {\n",
       "        vertical-align: top;\n",
       "    }\n",
       "\n",
       "    .dataframe thead th {\n",
       "        text-align: right;\n",
       "    }\n",
       "</style>\n",
       "<table border=\"1\" class=\"dataframe\">\n",
       "  <thead>\n",
       "    <tr style=\"text-align: right;\">\n",
       "      <th></th>\n",
       "      <th>fit_time</th>\n",
       "      <th>score_time</th>\n",
       "      <th>test_neg_mean_squared_error</th>\n",
       "      <th>test_neg_mean_absolute_error</th>\n",
       "      <th>test_r2</th>\n",
       "      <th>model_name</th>\n",
       "    </tr>\n",
       "  </thead>\n",
       "  <tbody>\n",
       "    <tr>\n",
       "      <th>mean</th>\n",
       "      <td>0.684064</td>\n",
       "      <td>0.018473</td>\n",
       "      <td>-59390.980641</td>\n",
       "      <td>-164.245985</td>\n",
       "      <td>0.983967</td>\n",
       "      <td>Decision Tree</td>\n",
       "    </tr>\n",
       "    <tr>\n",
       "      <th>std</th>\n",
       "      <td>0.106449</td>\n",
       "      <td>0.006129</td>\n",
       "      <td>12130.331634</td>\n",
       "      <td>17.579599</td>\n",
       "      <td>0.003618</td>\n",
       "      <td>Decision Tree</td>\n",
       "    </tr>\n",
       "  </tbody>\n",
       "</table>\n",
       "</div>"
      ],
      "text/plain": [
       "      fit_time  score_time  test_neg_mean_squared_error  \\\n",
       "mean  0.684064    0.018473                -59390.980641   \n",
       "std   0.106449    0.006129                 12130.331634   \n",
       "\n",
       "      test_neg_mean_absolute_error   test_r2     model_name  \n",
       "mean                   -164.245985  0.983967  Decision Tree  \n",
       "std                      17.579599  0.003618  Decision Tree  "
      ]
     },
     "metadata": {},
     "output_type": "display_data"
    },
    {
     "name": "stdout",
     "output_type": "stream",
     "text": [
      "running Random Forest...\n"
     ]
    },
    {
     "data": {
      "text/html": [
       "<div>\n",
       "<style scoped>\n",
       "    .dataframe tbody tr th:only-of-type {\n",
       "        vertical-align: middle;\n",
       "    }\n",
       "\n",
       "    .dataframe tbody tr th {\n",
       "        vertical-align: top;\n",
       "    }\n",
       "\n",
       "    .dataframe thead th {\n",
       "        text-align: right;\n",
       "    }\n",
       "</style>\n",
       "<table border=\"1\" class=\"dataframe\">\n",
       "  <thead>\n",
       "    <tr style=\"text-align: right;\">\n",
       "      <th></th>\n",
       "      <th>fit_time</th>\n",
       "      <th>score_time</th>\n",
       "      <th>test_neg_mean_squared_error</th>\n",
       "      <th>test_neg_mean_absolute_error</th>\n",
       "      <th>test_r2</th>\n",
       "      <th>model_name</th>\n",
       "    </tr>\n",
       "  </thead>\n",
       "  <tbody>\n",
       "    <tr>\n",
       "      <th>mean</th>\n",
       "      <td>10.112643</td>\n",
       "      <td>0.025550</td>\n",
       "      <td>-18307.274898</td>\n",
       "      <td>-83.639403</td>\n",
       "      <td>0.995059</td>\n",
       "      <td>Random Forest</td>\n",
       "    </tr>\n",
       "    <tr>\n",
       "      <th>std</th>\n",
       "      <td>1.794122</td>\n",
       "      <td>0.014259</td>\n",
       "      <td>5609.330859</td>\n",
       "      <td>11.129464</td>\n",
       "      <td>0.001523</td>\n",
       "      <td>Random Forest</td>\n",
       "    </tr>\n",
       "  </tbody>\n",
       "</table>\n",
       "</div>"
      ],
      "text/plain": [
       "       fit_time  score_time  test_neg_mean_squared_error  \\\n",
       "mean  10.112643    0.025550                -18307.274898   \n",
       "std    1.794122    0.014259                  5609.330859   \n",
       "\n",
       "      test_neg_mean_absolute_error   test_r2     model_name  \n",
       "mean                    -83.639403  0.995059  Random Forest  \n",
       "std                      11.129464  0.001523  Random Forest  "
      ]
     },
     "metadata": {},
     "output_type": "display_data"
    }
   ],
   "source": [
    "results = pd.DataFrame({})\n",
    "cross_validate_grid_search = KFold(n_splits=n_folds_grid_search)\n",
    "cross_validate_comparative_analysis = ShuffleSplit(n_splits=n_splits_comparative_analysis, test_size=test_size, random_state=random_state)\n",
    "\n",
    "for model_name, model_object, model_parameters in models:\n",
    "    print(f\"running {model_name}...\")\n",
    "    model_grid_search = GridSearchCV(\n",
    "        estimator=model_object,\n",
    "        param_grid=model_parameters,\n",
    "        scoring=scoring,\n",
    "        n_jobs=-1,\n",
    "        cv=cross_validate_grid_search\n",
    "    )\n",
    "    \n",
    "    approach = Pipeline(steps=[\n",
    "        ('preprocessor', preprocessor),\n",
    "        ('model', model_grid_search)\n",
    "    ])\n",
    "    \n",
    "    scores = cross_validate(\n",
    "        estimator=approach,\n",
    "        X=X,\n",
    "        y=y,\n",
    "        cv=cross_validate_comparative_analysis,\n",
    "        n_jobs=-1,\n",
    "        scoring=metrics\n",
    "    )\n",
    "    \n",
    "    scores_df = pd.DataFrame(scores)\n",
    "    aggregated_scores = scores_df.agg(['mean', 'std'])\n",
    "    aggregated_scores['model_name'] = model_name\n",
    "    display(aggregated_scores)\n",
    "    results = pd.concat([results, aggregated_scores], ignore_index=True)"
   ]
  },
  {
   "cell_type": "code",
   "execution_count": 10,
   "id": "5127adfc-d0c6-4f15-b833-bf1fdc91ef1b",
   "metadata": {
    "tags": []
   },
   "outputs": [
    {
     "data": {
      "text/markdown": [
       "### 3.1 Resultados gerais"
      ],
      "text/plain": [
       "<IPython.core.display.Markdown object>"
      ]
     },
     "metadata": {},
     "output_type": "display_data"
    },
    {
     "data": {
      "text/html": [
       "<style type=\"text/css\">\n",
       "#T_c6828 td {\n",
       "  text-align: center;\n",
       "}\n",
       "#T_c6828_row0_col0, #T_c6828_row2_col1, #T_c6828_row4_col1, #T_c6828_row6_col1, #T_c6828_row8_col1 {\n",
       "  color: white;\n",
       "  background-color: gray;\n",
       "  font-weight: bold;\n",
       "}\n",
       "</style>\n",
       "<table id=\"T_c6828\">\n",
       "  <thead>\n",
       "    <tr>\n",
       "      <th class=\"blank\" >&nbsp;</th>\n",
       "      <th class=\"index_name level0\" >model_name</th>\n",
       "      <th id=\"T_c6828_level0_col0\" class=\"col_heading level0 col0\" >Decision Tree</th>\n",
       "      <th id=\"T_c6828_level0_col1\" class=\"col_heading level0 col1\" >Gradient Boosting</th>\n",
       "      <th id=\"T_c6828_level0_col2\" class=\"col_heading level0 col2\" >K-Nearest Neighbors</th>\n",
       "      <th id=\"T_c6828_level0_col3\" class=\"col_heading level0 col3\" >Random Forest</th>\n",
       "    </tr>\n",
       "  </thead>\n",
       "  <tbody>\n",
       "    <tr>\n",
       "      <th id=\"T_c6828_level0_row0\" class=\"row_heading level0 row0\" rowspan=\"2\">fit_time</th>\n",
       "      <th id=\"T_c6828_level1_row0\" class=\"row_heading level1 row0\" >mean</th>\n",
       "      <td id=\"T_c6828_row0_col0\" class=\"data row0 col0\" >0.395256</td>\n",
       "      <td id=\"T_c6828_row0_col1\" class=\"data row0 col1\" >25.628387</td>\n",
       "      <td id=\"T_c6828_row0_col2\" class=\"data row0 col2\" >0.451770</td>\n",
       "      <td id=\"T_c6828_row0_col3\" class=\"data row0 col3\" >5.953382</td>\n",
       "    </tr>\n",
       "    <tr>\n",
       "      <th id=\"T_c6828_level1_row1\" class=\"row_heading level1 row1\" >std</th>\n",
       "      <td id=\"T_c6828_row1_col0\" class=\"data row1 col0\" >0.408435</td>\n",
       "      <td id=\"T_c6828_row1_col1\" class=\"data row1 col1\" >24.439324</td>\n",
       "      <td id=\"T_c6828_row1_col2\" class=\"data row1 col2\" >0.461433</td>\n",
       "      <td id=\"T_c6828_row1_col3\" class=\"data row1 col3\" >5.882082</td>\n",
       "    </tr>\n",
       "    <tr>\n",
       "      <th id=\"T_c6828_level0_row2\" class=\"row_heading level0 row2\" rowspan=\"2\">score_time</th>\n",
       "      <th id=\"T_c6828_level1_row2\" class=\"row_heading level1 row2\" >mean</th>\n",
       "      <td id=\"T_c6828_row2_col0\" class=\"data row2 col0\" >0.012301</td>\n",
       "      <td id=\"T_c6828_row2_col1\" class=\"data row2 col1\" >0.008824</td>\n",
       "      <td id=\"T_c6828_row2_col2\" class=\"data row2 col2\" >0.022127</td>\n",
       "      <td id=\"T_c6828_row2_col3\" class=\"data row2 col3\" >0.019905</td>\n",
       "    </tr>\n",
       "    <tr>\n",
       "      <th id=\"T_c6828_level1_row3\" class=\"row_heading level1 row3\" >std</th>\n",
       "      <td id=\"T_c6828_row3_col0\" class=\"data row3 col0\" >0.008728</td>\n",
       "      <td id=\"T_c6828_row3_col1\" class=\"data row3 col1\" >0.010631</td>\n",
       "      <td id=\"T_c6828_row3_col2\" class=\"data row3 col2\" >0.010944</td>\n",
       "      <td id=\"T_c6828_row3_col3\" class=\"data row3 col3\" >0.007984</td>\n",
       "    </tr>\n",
       "    <tr>\n",
       "      <th id=\"T_c6828_level0_row4\" class=\"row_heading level0 row4\" rowspan=\"2\">test_neg_mean_squared_error</th>\n",
       "      <th id=\"T_c6828_level1_row4\" class=\"row_heading level1 row4\" >mean</th>\n",
       "      <td id=\"T_c6828_row4_col0\" class=\"data row4 col0\" >-23630.324504</td>\n",
       "      <td id=\"T_c6828_row4_col1\" class=\"data row4 col1\" >-4308.022101</td>\n",
       "      <td id=\"T_c6828_row4_col2\" class=\"data row4 col2\" >-198138.736726</td>\n",
       "      <td id=\"T_c6828_row4_col3\" class=\"data row4 col3\" >-6348.972019</td>\n",
       "    </tr>\n",
       "    <tr>\n",
       "      <th id=\"T_c6828_level1_row5\" class=\"row_heading level1 row5\" >std</th>\n",
       "      <td id=\"T_c6828_row5_col0\" class=\"data row5 col0\" >50573.204909</td>\n",
       "      <td id=\"T_c6828_row5_col1\" class=\"data row5 col1\" >10560.695413</td>\n",
       "      <td id=\"T_c6828_row5_col2\" class=\"data row5 col2\" >419945.836699</td>\n",
       "      <td id=\"T_c6828_row5_col3\" class=\"data row5 col3\" >16911.594114</td>\n",
       "    </tr>\n",
       "    <tr>\n",
       "      <th id=\"T_c6828_level0_row6\" class=\"row_heading level0 row6\" rowspan=\"2\">test_neg_mean_absolute_error</th>\n",
       "      <th id=\"T_c6828_level1_row6\" class=\"row_heading level1 row6\" >mean</th>\n",
       "      <td id=\"T_c6828_row6_col0\" class=\"data row6 col0\" >-73.333193</td>\n",
       "      <td id=\"T_c6828_row6_col1\" class=\"data row6 col1\" >-30.640475</td>\n",
       "      <td id=\"T_c6828_row6_col2\" class=\"data row6 col2\" >-232.251885</td>\n",
       "      <td id=\"T_c6828_row6_col3\" class=\"data row6 col3\" >-36.254970</td>\n",
       "    </tr>\n",
       "    <tr>\n",
       "      <th id=\"T_c6828_level1_row7\" class=\"row_heading level1 row7\" >std</th>\n",
       "      <td id=\"T_c6828_row7_col0\" class=\"data row7 col0\" >128.570104</td>\n",
       "      <td id=\"T_c6828_row7_col1\" class=\"data row7 col1\" >53.914296</td>\n",
       "      <td id=\"T_c6828_row7_col2\" class=\"data row7 col2\" >408.947202</td>\n",
       "      <td id=\"T_c6828_row7_col3\" class=\"data row7 col3\" >67.011709</td>\n",
       "    </tr>\n",
       "    <tr>\n",
       "      <th id=\"T_c6828_level0_row8\" class=\"row_heading level0 row8\" rowspan=\"2\">test_r2</th>\n",
       "      <th id=\"T_c6828_level1_row8\" class=\"row_heading level1 row8\" >mean</th>\n",
       "      <td id=\"T_c6828_row8_col0\" class=\"data row8 col0\" >0.493793</td>\n",
       "      <td id=\"T_c6828_row8_col1\" class=\"data row8 col1\" >0.498841</td>\n",
       "      <td id=\"T_c6828_row8_col2\" class=\"data row8 col2\" >0.445912</td>\n",
       "      <td id=\"T_c6828_row8_col3\" class=\"data row8 col3\" >0.498291</td>\n",
       "    </tr>\n",
       "    <tr>\n",
       "      <th id=\"T_c6828_level1_row9\" class=\"row_heading level1 row9\" >std</th>\n",
       "      <td id=\"T_c6828_row9_col0\" class=\"data row9 col0\" >0.693211</td>\n",
       "      <td id=\"T_c6828_row9_col1\" class=\"data row9 col1\" >0.704257</td>\n",
       "      <td id=\"T_c6828_row9_col2\" class=\"data row9 col2\" >0.595908</td>\n",
       "      <td id=\"T_c6828_row9_col3\" class=\"data row9 col3\" >0.702536</td>\n",
       "    </tr>\n",
       "  </tbody>\n",
       "</table>\n"
      ],
      "text/plain": [
       "<pandas.io.formats.style.Styler at 0x7fc05d2c0a30>"
      ]
     },
     "execution_count": 10,
     "metadata": {},
     "output_type": "execute_result"
    }
   ],
   "source": [
    "def highlight_best(s, props=''):\n",
    "    if s.name[1] != 'std':\n",
    "        if s.name[0].endswith('time'):\n",
    "            return np.where(s == np.nanmin(s.values), props, '')\n",
    "        return np.where(s == np.nanmax(s.values), props, '')\n",
    "\n",
    "display(Markdown(\"### 3.1 Resultados gerais\"))\n",
    "(\n",
    "    results\n",
    "    .groupby('model_name')\n",
    "    .agg(['mean', 'std']).T\n",
    "    .style\n",
    "    .apply(highlight_best, props='color:white;background-color:gray;font-weight: bold;', axis=1)\n",
    "    .set_table_styles([{'selector': 'td', 'props': 'text-align: center;'}])\n",
    ")"
   ]
  },
  {
   "cell_type": "markdown",
   "id": "5036b8ed-bfe5-44c0-bfc2-215b6e6db4c2",
   "metadata": {},
   "source": [
    "- Gradient Boosting foi o modelo mais eficaz no geral, com o menor erro e maior coeficiente de determinação, embora tenha um custo computacional mais elevado.\n",
    "- Random Forest também teve um bom desempenho, mas com um tempo de execução menor que o Gradient Boosting, o que pode ser um trade-off interessante.\n",
    "- Decision Tree foi o mais rápido, mas sacrificou precisão em relação aos outros modelos.\n",
    "- KNN teve um desempenho inferior em todos os aspectos, sugerindo que pode não ser a melhor escolha para este problema específico.\n",
    "\n",
    "Esses resultados sugerem que, se o objetivo é maximizar a precisão e há tempo computacional disponível, o Gradient Boosting é a melhor opção. Se o tempo de treinamento for uma restrição, o Random Forest pode ser uma boa alternativa."
   ]
  },
  {
   "cell_type": "markdown",
   "id": "71d8f5fb-77b4-4f65-9cde-6ab2ec8fc40a",
   "metadata": {},
   "source": [
    "## 3.2 Persistência do modelo"
   ]
  },
  {
   "cell_type": "code",
   "execution_count": 11,
   "id": "2003213b-5432-4d3d-b6ba-ab7377c518f3",
   "metadata": {
    "tags": []
   },
   "outputs": [
    {
     "name": "stdout",
     "output_type": "stream",
     "text": [
      "Hiper parâmetros do modelo: {'learning_rate': 0.2, 'max_depth': 3, 'n_estimators': 150}\n"
     ]
    }
   ],
   "source": [
    "model_name, model_object, model_parameters  = [foo for foo in models if foo[0] == \"Gradient Boosting\"][0] \n",
    "\n",
    "model_grid_search = GridSearchCV(\n",
    "        estimator=model_object,\n",
    "        param_grid=model_parameters,\n",
    "        scoring=scoring,\n",
    "        n_jobs=-1,\n",
    "        cv=cross_validate_grid_search\n",
    "    )\n",
    "\n",
    "approach = Pipeline([\n",
    "    (\"preprocessor\", preprocessor),\n",
    "    (\"model\", model_grid_search)\n",
    "])\n",
    "\n",
    "approach.fit(X, y)\n",
    "\n",
    "print(f\"Hiper parâmetros do modelo: {approach.steps[1][1].best_params_}\")"
   ]
  },
  {
   "cell_type": "code",
   "execution_count": 12,
   "id": "c9868cb2-a2c8-4963-9535-04667f54f742",
   "metadata": {
    "tags": []
   },
   "outputs": [
    {
     "data": {
      "text/plain": [
       "['../models/model.joblib']"
      ]
     },
     "execution_count": 12,
     "metadata": {},
     "output_type": "execute_result"
    }
   ],
   "source": [
    "joblib.dump(approach, '../models/model.joblib')"
   ]
  }
 ],
 "metadata": {
  "kernelspec": {
   "display_name": "Python 3 (ipykernel)",
   "language": "python",
   "name": "python3"
  },
  "language_info": {
   "codemirror_mode": {
    "name": "ipython",
    "version": 3
   },
   "file_extension": ".py",
   "mimetype": "text/x-python",
   "name": "python",
   "nbconvert_exporter": "python",
   "pygments_lexer": "ipython3",
   "version": "3.10.12"
  }
 },
 "nbformat": 4,
 "nbformat_minor": 5
}
