{
 "cells": [
  {
   "cell_type": "markdown",
   "id": "b837e1ee-2c10-4baf-a755-fcd851d2ca40",
   "metadata": {},
   "source": [
    "# Análise comparativa"
   ]
  },
  {
   "cell_type": "markdown",
   "id": "713e7038-de8e-45b1-ae90-f748f7c823ee",
   "metadata": {},
   "source": [
    "## Objetivo:\n",
    "O objetivo deste notebook é realizar uma análise comparativa de diferentes modelos de aprendizado de máquina aplicados à previsão da demanda por compartilhamento/locação de bicicletas. A análise busca identificar quais modelos apresentam o melhor desempenho em termos de previsão, levando em consideração a importância da preparação adequada dos dados e a aplicação de técnicas de validação robustas."
   ]
  },
  {
   "cell_type": "markdown",
   "id": "a344d8d1-8d0b-458e-bac1-2438cc8a0186",
   "metadata": {},
   "source": [
    "## Contexto:\n",
    "A locação de bicicletas é uma solução de mobilidade urbana sustentável que tem ganhado popularidade em muitas cidades. No entanto, a previsão precisa da demanda por bicicletas é crucial para otimizar a disponibilidade e reduzir custos operacionais. Este notebook aborda o desafio de prever a demanda utilizando uma base de dados real de locação de bicicletas. A preparação dos dados e a escolha de modelos adequados são etapas fundamentais para garantir a precisão das previsões. A comparação entre diferentes modelos permitirá identificar a abordagem mais eficaz para este problema. O conjunto de dados \"[Bike Sharing](https://www.kaggle.com/datasets/lakshmi25npathi/bike-sharing-dataset/data)\" do Kaggle registra o uso de bicicletas compartilhadas em Washington, D.C. entre o início de 2011 e 2013. Ele inclui variáveis como data, estação do ano, se o dia é feriado ou útil, situação climática, temperatura, sensação térmica, umidade, velocidade do vento, além do número de usuários casuais, registrados e o total de aluguéis. Essas informações permitem analisar padrões de uso e construir modelos para prever a demanda de bicicletas com base em condições climáticas e temporais.\n",
    "\n",
    "---"
   ]
  },
  {
   "cell_type": "markdown",
   "id": "f7f6bdb1-195d-42a4-a109-6156e33b23c2",
   "metadata": {},
   "source": [
    "## Configuração Inicial:"
   ]
  },
  {
   "cell_type": "code",
   "execution_count": 1,
   "id": "76d47352-17c2-4046-a868-e7ec5e870a6f",
   "metadata": {
    "tags": []
   },
   "outputs": [],
   "source": [
    "from IPython.display import display, Markdown\n",
    "import joblib\n",
    "import numpy as np\n",
    "import pandas as pd\n",
    "import seaborn as sns\n",
    "import matplotlib.pyplot as plt\n",
    "\n",
    "from sklearn.pipeline import Pipeline\n",
    "from sklearn.impute import SimpleImputer\n",
    "from sklearn.preprocessing import StandardScaler, OneHotEncoder, OrdinalEncoder\n",
    "from sklearn.compose import ColumnTransformer\n",
    "\n",
    "from sklearn.model_selection import ShuffleSplit, GridSearchCV, KFold, cross_validate, train_test_split, learning_curve\n",
    "from sklearn.linear_model import LinearRegression\n",
    "from sklearn.neighbors import KNeighborsRegressor\n",
    "from sklearn.ensemble import GradientBoostingRegressor, RandomForestRegressor\n",
    "from sklearn.tree import DecisionTreeRegressor"
   ]
  },
  {
   "cell_type": "markdown",
   "id": "d6821558-3c26-4b1b-b2ac-8ef422219bb8",
   "metadata": {},
   "source": [
    "## 1. Preparação dos Dados:"
   ]
  },
  {
   "cell_type": "markdown",
   "id": "8cd15780-f875-4cb2-ab70-07461299672f",
   "metadata": {},
   "source": [
    "A preparação dos dados é uma etapa essencial no desenvolvimento de modelos de aprendizado de máquina, pois garante que os dados estejam em um formato adequado para a análise e modelagem. Nesta etapa, serão realizados os seguintes processos: Tratamento de dados faltantes e discrepantes, Codificação de variáveis e Normalização dos dados."
   ]
  },
  {
   "cell_type": "markdown",
   "id": "af991dff-12ed-4ccb-9ddb-a3c85bd8bd8b",
   "metadata": {},
   "source": [
    "### 1.1 Obtenção de dados"
   ]
  },
  {
   "cell_type": "code",
   "execution_count": 2,
   "id": "b9b8116c-9ee8-4482-9135-52955b501757",
   "metadata": {
    "tags": []
   },
   "outputs": [
    {
     "data": {
      "text/html": [
       "<div>\n",
       "<style scoped>\n",
       "    .dataframe tbody tr th:only-of-type {\n",
       "        vertical-align: middle;\n",
       "    }\n",
       "\n",
       "    .dataframe tbody tr th {\n",
       "        vertical-align: top;\n",
       "    }\n",
       "\n",
       "    .dataframe thead th {\n",
       "        text-align: right;\n",
       "    }\n",
       "</style>\n",
       "<table border=\"1\" class=\"dataframe\">\n",
       "  <thead>\n",
       "    <tr style=\"text-align: right;\">\n",
       "      <th></th>\n",
       "      <th>variavel</th>\n",
       "      <th>descricao</th>\n",
       "      <th>tipo</th>\n",
       "      <th>subtipo</th>\n",
       "    </tr>\n",
       "  </thead>\n",
       "  <tbody>\n",
       "    <tr>\n",
       "      <th>0</th>\n",
       "      <td>instant</td>\n",
       "      <td>Índice de registro</td>\n",
       "      <td>quantitativa</td>\n",
       "      <td>discreta</td>\n",
       "    </tr>\n",
       "    <tr>\n",
       "      <th>1</th>\n",
       "      <td>dteday</td>\n",
       "      <td>Data</td>\n",
       "      <td>qualitativa</td>\n",
       "      <td>ordinal</td>\n",
       "    </tr>\n",
       "    <tr>\n",
       "      <th>2</th>\n",
       "      <td>season</td>\n",
       "      <td>Estação do ano</td>\n",
       "      <td>qualitativa</td>\n",
       "      <td>ordinal</td>\n",
       "    </tr>\n",
       "    <tr>\n",
       "      <th>3</th>\n",
       "      <td>yr</td>\n",
       "      <td>Ano</td>\n",
       "      <td>qualitativa</td>\n",
       "      <td>ordinal</td>\n",
       "    </tr>\n",
       "    <tr>\n",
       "      <th>4</th>\n",
       "      <td>mnth</td>\n",
       "      <td>Mês</td>\n",
       "      <td>qualitativa</td>\n",
       "      <td>ordinal</td>\n",
       "    </tr>\n",
       "    <tr>\n",
       "      <th>5</th>\n",
       "      <td>holiday</td>\n",
       "      <td>Se o dia é feriado ou não</td>\n",
       "      <td>qualitativa</td>\n",
       "      <td>nominal</td>\n",
       "    </tr>\n",
       "    <tr>\n",
       "      <th>6</th>\n",
       "      <td>weekday</td>\n",
       "      <td>Dia da semana</td>\n",
       "      <td>qualitativa</td>\n",
       "      <td>nominal</td>\n",
       "    </tr>\n",
       "    <tr>\n",
       "      <th>7</th>\n",
       "      <td>workingday</td>\n",
       "      <td>Se o dia não é fim de semana e nem feriado</td>\n",
       "      <td>qualitativa</td>\n",
       "      <td>nominal</td>\n",
       "    </tr>\n",
       "    <tr>\n",
       "      <th>8</th>\n",
       "      <td>weathersit</td>\n",
       "      <td>Clima</td>\n",
       "      <td>qualitativa</td>\n",
       "      <td>nominal</td>\n",
       "    </tr>\n",
       "    <tr>\n",
       "      <th>9</th>\n",
       "      <td>temp</td>\n",
       "      <td>Temperatura normalizada em Celsius</td>\n",
       "      <td>quantitativa</td>\n",
       "      <td>contínua</td>\n",
       "    </tr>\n",
       "    <tr>\n",
       "      <th>10</th>\n",
       "      <td>atemp</td>\n",
       "      <td>Temperatura de sensação normalizada em Celsius</td>\n",
       "      <td>quantitativa</td>\n",
       "      <td>contínua</td>\n",
       "    </tr>\n",
       "    <tr>\n",
       "      <th>11</th>\n",
       "      <td>hum</td>\n",
       "      <td>Umidade do ar</td>\n",
       "      <td>quantitiva</td>\n",
       "      <td>contínua</td>\n",
       "    </tr>\n",
       "    <tr>\n",
       "      <th>12</th>\n",
       "      <td>windspeed</td>\n",
       "      <td>Velocidade do vento</td>\n",
       "      <td>quantitiva</td>\n",
       "      <td>contínua</td>\n",
       "    </tr>\n",
       "    <tr>\n",
       "      <th>13</th>\n",
       "      <td>casual</td>\n",
       "      <td>Contagem de usuários casuais</td>\n",
       "      <td>quantitiva</td>\n",
       "      <td>discreta</td>\n",
       "    </tr>\n",
       "    <tr>\n",
       "      <th>14</th>\n",
       "      <td>registered</td>\n",
       "      <td>Contagem de usuários registrados</td>\n",
       "      <td>quantitiva</td>\n",
       "      <td>discreta</td>\n",
       "    </tr>\n",
       "    <tr>\n",
       "      <th>15</th>\n",
       "      <td>cnt</td>\n",
       "      <td>Contagem total de bicicletas alugadas, incluin...</td>\n",
       "      <td>quantitiva</td>\n",
       "      <td>discreta</td>\n",
       "    </tr>\n",
       "  </tbody>\n",
       "</table>\n",
       "</div>"
      ],
      "text/plain": [
       "      variavel                                          descricao  \\\n",
       "0      instant                                 Índice de registro   \n",
       "1       dteday                                               Data   \n",
       "2       season                                     Estação do ano   \n",
       "3           yr                                                Ano   \n",
       "4         mnth                                                Mês   \n",
       "5      holiday                          Se o dia é feriado ou não   \n",
       "6      weekday                                      Dia da semana   \n",
       "7   workingday         Se o dia não é fim de semana e nem feriado   \n",
       "8   weathersit                                              Clima   \n",
       "9         temp                 Temperatura normalizada em Celsius   \n",
       "10       atemp     Temperatura de sensação normalizada em Celsius   \n",
       "11         hum                                      Umidade do ar   \n",
       "12   windspeed                                Velocidade do vento   \n",
       "13      casual                       Contagem de usuários casuais   \n",
       "14  registered                   Contagem de usuários registrados   \n",
       "15         cnt  Contagem total de bicicletas alugadas, incluin...   \n",
       "\n",
       "            tipo   subtipo  \n",
       "0   quantitativa  discreta  \n",
       "1    qualitativa   ordinal  \n",
       "2    qualitativa   ordinal  \n",
       "3    qualitativa   ordinal  \n",
       "4    qualitativa   ordinal  \n",
       "5    qualitativa   nominal  \n",
       "6    qualitativa   nominal  \n",
       "7    qualitativa   nominal  \n",
       "8    qualitativa   nominal  \n",
       "9   quantitativa  contínua  \n",
       "10  quantitativa  contínua  \n",
       "11    quantitiva  contínua  \n",
       "12    quantitiva  contínua  \n",
       "13    quantitiva  discreta  \n",
       "14    quantitiva  discreta  \n",
       "15    quantitiva  discreta  "
      ]
     },
     "execution_count": 2,
     "metadata": {},
     "output_type": "execute_result"
    }
   ],
   "source": [
    "df = pd.read_csv(\"../data/raw/day.csv\")\n",
    "df['dteday'] = pd.to_datetime(df['dteday'])\n",
    "df_dict = pd.read_csv(\"../data/external/dictionary.csv\")\n",
    "df_dict"
   ]
  },
  {
   "cell_type": "markdown",
   "id": "30be6d70-b36e-4b55-aba6-5dcfc60bd2d2",
   "metadata": {},
   "source": [
    "- A coluna `instant` trata somente do índice, então podemos removê-la."
   ]
  },
  {
   "cell_type": "code",
   "execution_count": 3,
   "id": "78247379-94c0-4319-abb2-c2629f28d803",
   "metadata": {
    "tags": []
   },
   "outputs": [],
   "source": [
    "df = df.drop(columns=['instant'])"
   ]
  },
  {
   "cell_type": "markdown",
   "id": "2e0c1fc4-8764-4347-8389-8ad0b7d3291d",
   "metadata": {},
   "source": [
    "### 1.2 Tratamento de dados Faltantes"
   ]
  },
  {
   "cell_type": "code",
   "execution_count": 4,
   "id": "3ee02410-060d-482d-ae22-1efce480dc8e",
   "metadata": {
    "tags": []
   },
   "outputs": [
    {
     "name": "stdout",
     "output_type": "stream",
     "text": [
      "Dados faltantes por coluna:\n",
      "dteday        0\n",
      "season        0\n",
      "yr            0\n",
      "mnth          0\n",
      "holiday       0\n",
      "weekday       0\n",
      "workingday    0\n",
      "weathersit    0\n",
      "temp          0\n",
      "atemp         0\n",
      "hum           0\n",
      "windspeed     0\n",
      "casual        0\n",
      "registered    0\n",
      "cnt           0\n",
      "dtype: int64\n"
     ]
    }
   ],
   "source": [
    "print(\"Dados faltantes por coluna:\")\n",
    "print(df.isnull().sum())"
   ]
  },
  {
   "cell_type": "markdown",
   "id": "2b481836-aa87-4c63-9d0f-5d5e925e4ebc",
   "metadata": {
    "tags": []
   },
   "source": [
    "Não há dados faltantes para nenhuma das colunas na base de dados."
   ]
  },
  {
   "cell_type": "markdown",
   "id": "a847829b-43fd-412f-bcc0-402cf64738e6",
   "metadata": {},
   "source": [
    "### 1.3 Identificação de Outliers"
   ]
  },
  {
   "cell_type": "code",
   "execution_count": 5,
   "id": "941da82c-d120-458e-8042-47297e1e542a",
   "metadata": {
    "tags": []
   },
   "outputs": [
    {
     "name": "stdout",
     "output_type": "stream",
     "text": [
      "'temp': 0 outliers\n",
      "'atemp': 0 outliers\n",
      "'hum': 2 outliers\n",
      "'windspeed': 13 outliers\n",
      "'casual': 44 outliers\n",
      "'registered': 0 outliers\n",
      "'cnt': 0 outliers\n"
     ]
    }
   ],
   "source": [
    "def detect_outliers_iqr(df):\n",
    "    cols_to_check = ['temp', 'atemp', 'hum', 'windspeed', 'casual', 'registered', 'cnt']\n",
    "    outliers_dict = {}\n",
    "\n",
    "    for col in cols_to_check:\n",
    "        Q1 = df[col].quantile(0.25)\n",
    "        Q3 = df[col].quantile(0.75)\n",
    "        IQR = Q3 - Q1\n",
    "        lower_bound = Q1 - 1.5 * IQR\n",
    "        upper_bound = Q3 + 1.5 * IQR\n",
    "\n",
    "        num_outliers = ((df[col] < lower_bound) | (df[col] > upper_bound)).sum()\n",
    "        outliers_dict[col] = num_outliers\n",
    "\n",
    "    for col, num_outliers in outliers_dict.items():\n",
    "        print(f\"'{col}': {num_outliers} outliers\")\n",
    "\n",
    "detect_outliers_iqr(df)"
   ]
  },
  {
   "cell_type": "markdown",
   "id": "3f1fbc3f-c841-45f6-8eb6-653ecbe09298",
   "metadata": {},
   "source": [
    "### 1.4 Codificação de Variáveis"
   ]
  },
  {
   "cell_type": "code",
   "execution_count": 6,
   "id": "49eb2f04-9750-4759-a079-daa9fec511ff",
   "metadata": {},
   "outputs": [],
   "source": [
    "df['dteday'] = pd.to_datetime(df['dteday'])\n",
    "\n",
    "df['day'] = df['dteday'].dt.day\n",
    "\n",
    "df = df.drop(columns=['dteday'])"
   ]
  },
  {
   "cell_type": "markdown",
   "id": "d3161acf-8a8f-473e-b5c0-04467c5e0c63",
   "metadata": {},
   "source": [
    "Como a base de dados já possui variáveis referentes a mês (`mnth`) e ano(`yr`), separamos apenas o dia. Com isso, precisamos alterar nosso dicionário de dados."
   ]
  },
  {
   "cell_type": "code",
   "execution_count": 7,
   "id": "4ad83997-721d-4d24-93ad-bb30f035c126",
   "metadata": {},
   "outputs": [
    {
     "data": {
      "text/html": [
       "<div>\n",
       "<style scoped>\n",
       "    .dataframe tbody tr th:only-of-type {\n",
       "        vertical-align: middle;\n",
       "    }\n",
       "\n",
       "    .dataframe tbody tr th {\n",
       "        vertical-align: top;\n",
       "    }\n",
       "\n",
       "    .dataframe thead th {\n",
       "        text-align: right;\n",
       "    }\n",
       "</style>\n",
       "<table border=\"1\" class=\"dataframe\">\n",
       "  <thead>\n",
       "    <tr style=\"text-align: right;\">\n",
       "      <th></th>\n",
       "      <th>variavel</th>\n",
       "      <th>descricao</th>\n",
       "      <th>tipo</th>\n",
       "      <th>subtipo</th>\n",
       "    </tr>\n",
       "  </thead>\n",
       "  <tbody>\n",
       "    <tr>\n",
       "      <th>2</th>\n",
       "      <td>season</td>\n",
       "      <td>Estação do ano</td>\n",
       "      <td>qualitativa</td>\n",
       "      <td>ordinal</td>\n",
       "    </tr>\n",
       "    <tr>\n",
       "      <th>3</th>\n",
       "      <td>yr</td>\n",
       "      <td>Ano</td>\n",
       "      <td>qualitativa</td>\n",
       "      <td>ordinal</td>\n",
       "    </tr>\n",
       "    <tr>\n",
       "      <th>4</th>\n",
       "      <td>mnth</td>\n",
       "      <td>Mês</td>\n",
       "      <td>qualitativa</td>\n",
       "      <td>ordinal</td>\n",
       "    </tr>\n",
       "    <tr>\n",
       "      <th>5</th>\n",
       "      <td>holiday</td>\n",
       "      <td>Se o dia é feriado ou não</td>\n",
       "      <td>qualitativa</td>\n",
       "      <td>nominal</td>\n",
       "    </tr>\n",
       "    <tr>\n",
       "      <th>6</th>\n",
       "      <td>weekday</td>\n",
       "      <td>Dia da semana</td>\n",
       "      <td>qualitativa</td>\n",
       "      <td>nominal</td>\n",
       "    </tr>\n",
       "    <tr>\n",
       "      <th>7</th>\n",
       "      <td>workingday</td>\n",
       "      <td>Se o dia não é fim de semana e nem feriado</td>\n",
       "      <td>qualitativa</td>\n",
       "      <td>nominal</td>\n",
       "    </tr>\n",
       "    <tr>\n",
       "      <th>8</th>\n",
       "      <td>weathersit</td>\n",
       "      <td>Clima</td>\n",
       "      <td>qualitativa</td>\n",
       "      <td>nominal</td>\n",
       "    </tr>\n",
       "    <tr>\n",
       "      <th>9</th>\n",
       "      <td>temp</td>\n",
       "      <td>Temperatura normalizada em Celsius</td>\n",
       "      <td>quantitativa</td>\n",
       "      <td>contínua</td>\n",
       "    </tr>\n",
       "    <tr>\n",
       "      <th>10</th>\n",
       "      <td>atemp</td>\n",
       "      <td>Temperatura de sensação normalizada em Celsius</td>\n",
       "      <td>quantitativa</td>\n",
       "      <td>contínua</td>\n",
       "    </tr>\n",
       "    <tr>\n",
       "      <th>11</th>\n",
       "      <td>hum</td>\n",
       "      <td>Umidade do ar</td>\n",
       "      <td>quantitiva</td>\n",
       "      <td>contínua</td>\n",
       "    </tr>\n",
       "    <tr>\n",
       "      <th>12</th>\n",
       "      <td>windspeed</td>\n",
       "      <td>Velocidade do vento</td>\n",
       "      <td>quantitiva</td>\n",
       "      <td>contínua</td>\n",
       "    </tr>\n",
       "    <tr>\n",
       "      <th>13</th>\n",
       "      <td>casual</td>\n",
       "      <td>Contagem de usuários casuais</td>\n",
       "      <td>quantitiva</td>\n",
       "      <td>discreta</td>\n",
       "    </tr>\n",
       "    <tr>\n",
       "      <th>14</th>\n",
       "      <td>registered</td>\n",
       "      <td>Contagem de usuários registrados</td>\n",
       "      <td>quantitiva</td>\n",
       "      <td>discreta</td>\n",
       "    </tr>\n",
       "    <tr>\n",
       "      <th>15</th>\n",
       "      <td>cnt</td>\n",
       "      <td>Contagem total de bicicletas alugadas, incluin...</td>\n",
       "      <td>quantitiva</td>\n",
       "      <td>discreta</td>\n",
       "    </tr>\n",
       "    <tr>\n",
       "      <th>16</th>\n",
       "      <td>day</td>\n",
       "      <td>Dia no ano</td>\n",
       "      <td>qualitativa</td>\n",
       "      <td>ordinal</td>\n",
       "    </tr>\n",
       "  </tbody>\n",
       "</table>\n",
       "</div>"
      ],
      "text/plain": [
       "      variavel                                          descricao  \\\n",
       "2       season                                     Estação do ano   \n",
       "3           yr                                                Ano   \n",
       "4         mnth                                                Mês   \n",
       "5      holiday                          Se o dia é feriado ou não   \n",
       "6      weekday                                      Dia da semana   \n",
       "7   workingday         Se o dia não é fim de semana e nem feriado   \n",
       "8   weathersit                                              Clima   \n",
       "9         temp                 Temperatura normalizada em Celsius   \n",
       "10       atemp     Temperatura de sensação normalizada em Celsius   \n",
       "11         hum                                      Umidade do ar   \n",
       "12   windspeed                                Velocidade do vento   \n",
       "13      casual                       Contagem de usuários casuais   \n",
       "14  registered                   Contagem de usuários registrados   \n",
       "15         cnt  Contagem total de bicicletas alugadas, incluin...   \n",
       "16         day                                         Dia no ano   \n",
       "\n",
       "            tipo   subtipo  \n",
       "2    qualitativa   ordinal  \n",
       "3    qualitativa   ordinal  \n",
       "4    qualitativa   ordinal  \n",
       "5    qualitativa   nominal  \n",
       "6    qualitativa   nominal  \n",
       "7    qualitativa   nominal  \n",
       "8    qualitativa   nominal  \n",
       "9   quantitativa  contínua  \n",
       "10  quantitativa  contínua  \n",
       "11    quantitiva  contínua  \n",
       "12    quantitiva  contínua  \n",
       "13    quantitiva  discreta  \n",
       "14    quantitiva  discreta  \n",
       "15    quantitiva  discreta  \n",
       "16   qualitativa   ordinal  "
      ]
     },
     "execution_count": 7,
     "metadata": {},
     "output_type": "execute_result"
    }
   ],
   "source": [
    "new_columns = pd.DataFrame({\n",
    "    'variavel': ['day'],\n",
    "    'descricao': [\n",
    "        'Dia no ano'\n",
    "    ],\n",
    "    'tipo': ['qualitativa'],\n",
    "    'subtipo': ['ordinal']\n",
    "})\n",
    "\n",
    "df_dict = pd.concat([df_dict, new_columns], ignore_index=True)\n",
    "df_dict = df_dict[~df_dict['variavel'].isin(['instant', 'dteday'])]\n",
    "df_dict"
   ]
  },
  {
   "cell_type": "code",
   "execution_count": 8,
   "id": "978ca630-47b5-4011-b108-ab5b6492ec6e",
   "metadata": {
    "tags": []
   },
   "outputs": [],
   "source": [
    "target_column = 'cnt'\n",
    "\n",
    "nominal_columns = (\n",
    "    df_dict\n",
    "    .query(\"subtipo == 'nominal'\")\n",
    "    .variavel\n",
    "    .to_list()\n",
    ")\n",
    "\n",
    "continuous_columns = (\n",
    "    df_dict\n",
    "    .query(\"subtipo == 'contínua'\")\n",
    "    .variavel\n",
    "    .to_list()\n",
    ")\n",
    "\n",
    "ordinal_columns = (\n",
    "    df_dict\n",
    "    .query(\"subtipo == 'ordinal'\")\n",
    "    .variavel\n",
    "    .to_list()\n",
    ")\n",
    "\n",
    "discrete_columns = (\n",
    "    df_dict\n",
    "    .query(\"subtipo == 'discreta' and variavel != @target_column\")\n",
    "    .variavel\n",
    "    .to_list()\n",
    ")\n",
    "\n",
    "X = df.drop(columns=[target_column], axis=1)\n",
    "y = df[target_column]"
   ]
  },
  {
   "cell_type": "code",
   "execution_count": 9,
   "id": "3f0346d7-3228-44af-bfb5-12f0712979ee",
   "metadata": {
    "tags": []
   },
   "outputs": [],
   "source": [
    "nominal_preprocessor = Pipeline([\n",
    "    ('missing', SimpleImputer(strategy='most_frequent')), \n",
    "    ('encoding', OneHotEncoder(sparse_output=False, drop='first')),\n",
    "    ('normalization', StandardScaler())\n",
    "])\n",
    "\n",
    "continuous_preprocessor = Pipeline([\n",
    "    ('missing', SimpleImputer(strategy='mean')),  \n",
    "    ('normalization', StandardScaler()) \n",
    "])\n",
    "\n",
    "ordinal_preprocessor = Pipeline([\n",
    "    ('missing', SimpleImputer(strategy='most_frequent')),\n",
    "    ('encoding', OrdinalEncoder()), \n",
    "    ('normalization', StandardScaler())\n",
    "])\n",
    "\n",
    "discrete_preprocessor = Pipeline([\n",
    "    ('missing', SimpleImputer(strategy='most_frequent')), \n",
    "    ('normalization', StandardScaler()) \n",
    "])\n",
    "\n",
    "preprocessor = ColumnTransformer([\n",
    "    ('nominal', nominal_preprocessor, nominal_columns),\n",
    "    ('ordinal', ordinal_preprocessor, ordinal_columns),\n",
    "    ('discrete', discrete_preprocessor, discrete_columns),\n",
    "    ('continuous', continuous_preprocessor, continuous_columns)\n",
    "])\n",
    "\n",
    "X_preprocessed = continuous_preprocessor.fit_transform(df[continuous_columns])\n",
    "model = LinearRegression()\n",
    "\n",
    "final_pipeline = Pipeline([\n",
    "    ('preprocessing', preprocessor),\n",
    "    ('model', model)\n",
    "])"
   ]
  },
  {
   "cell_type": "code",
   "execution_count": 10,
   "id": "e144b0d5-2285-49c9-95b2-15a796e179da",
   "metadata": {
    "tags": []
   },
   "outputs": [
    {
     "name": "stdout",
     "output_type": "stream",
     "text": [
      "Colunas após a preparação:\n",
      "['nominal__holiday_1' 'nominal__weekday_1' 'nominal__weekday_2'\n",
      " 'nominal__weekday_3' 'nominal__weekday_4' 'nominal__weekday_5'\n",
      " 'nominal__weekday_6' 'nominal__workingday_1' 'nominal__weathersit_2'\n",
      " 'nominal__weathersit_3' 'ordinal__season' 'ordinal__yr' 'ordinal__mnth'\n",
      " 'ordinal__day' 'discrete__casual' 'discrete__registered'\n",
      " 'continuous__temp' 'continuous__atemp' 'continuous__hum'\n",
      " 'continuous__windspeed']\n"
     ]
    },
    {
     "data": {
      "text/plain": [
       "(731, 20)"
      ]
     },
     "execution_count": 10,
     "metadata": {},
     "output_type": "execute_result"
    }
   ],
   "source": [
    "X_prepared = preprocessor.fit_transform(X)\n",
    "feature_names = preprocessor.get_feature_names_out()\n",
    "print(\"Colunas após a preparação:\")\n",
    "print(feature_names)\n",
    "X_prepared.shape"
   ]
  },
  {
   "cell_type": "code",
   "execution_count": 11,
   "id": "e4a589c6-aebc-42b7-8b96-b564784db2b8",
   "metadata": {
    "tags": []
   },
   "outputs": [
    {
     "name": "stdout",
     "output_type": "stream",
     "text": [
      "Dados pré-processados:\n",
      "[[-0.171981   -0.40955052 -0.40727045 ... -0.67994602  1.25017133\n",
      "  -0.38789169]\n",
      " [-0.171981   -0.40955052 -0.40727045 ... -0.74065231  0.47911298\n",
      "   0.74960172]\n",
      " [-0.171981    2.4417012  -0.40727045 ... -1.749767   -1.33927398\n",
      "   0.74663186]\n",
      " ...\n",
      " [-0.171981   -0.40955052 -0.40727045 ... -1.42434419  0.87839173\n",
      "  -0.85355213]\n",
      " [-0.171981   -0.40955052 -0.40727045 ... -1.49004895 -1.01566357\n",
      "   2.06944426]\n",
      " [-0.171981    2.4417012  -0.40727045 ... -1.54048197 -0.35406086\n",
      "  -0.46020122]]\n"
     ]
    }
   ],
   "source": [
    "X_prepared = preprocessor.fit_transform(X)\n",
    "print(\"Dados pré-processados:\")\n",
    "print(X_prepared)"
   ]
  },
  {
   "cell_type": "markdown",
   "id": "111add7e-e2e2-4d19-aa97-47c998f7d2a9",
   "metadata": {},
   "source": [
    "---"
   ]
  },
  {
   "cell_type": "markdown",
   "id": "33e33101-a682-4cc2-9adf-362464aa7791",
   "metadata": {},
   "source": [
    "## 2. Seleção de modelos"
   ]
  },
  {
   "cell_type": "markdown",
   "id": "427be09a-8f36-4600-9ec6-9daaf68f4e49",
   "metadata": {},
   "source": [
    "Iremos análisar quatro modelos, que serão testados utilizando um método de validação, a saber:\n",
    "\n",
    "- K-Nearest Neighbors\n",
    "- Gradient Boosting\n",
    "- Decision Tree\n",
    "- Random Forest\n",
    "\n",
    "Além disso, cada um desses algoritmos será testado com diferentes hiper-parametros, para que possamos encontrar o melhor modelo e a melhor configuração possível para esse modelo.\n",
    "\n",
    "Utilizaremos as seguintes métricas para análise:\n",
    "\n",
    "- **Neg Mean Squared Error ('neg_mean_squared_error')**: O erro quadrático médio (MSE) é a média dos quadrados das diferenças entre os valores previstos e os valores reais. É uma medida que penaliza erros maiores de forma mais severa, já que os erros são elevados ao quadrado.\n",
    "- **Neg Mean Absolute Error ('neg_mean_absolute_error')**: O erro absoluto médio (MAE) é a média das diferenças absolutas entre os valores previstos e os valores reais. Ao contrário do MSE, o MAE não penaliza erros maiores mais severamente.\n",
    "- **R² ('r2')**: O R², ou coeficiente de determinação, mede a proporção da variabilidade total dos dados que é explicada pelo modelo. Em outras palavras, indica o quão bem os valores previstos se ajustam aos valores reais."
   ]
  },
  {
   "cell_type": "code",
   "execution_count": 12,
   "id": "d18ec4ad-8cd7-408e-b700-7bb953934592",
   "metadata": {
    "tags": []
   },
   "outputs": [],
   "source": [
    "n_splits_comparative_analysis = 10\n",
    "n_folds_grid_search = 5\n",
    "test_size = .2\n",
    "random_state = 42\n",
    "scoring = 'neg_mean_squared_error'\n",
    "metrics = ['neg_mean_squared_error', 'neg_mean_absolute_error', 'r2']\n",
    "\n",
    "max_iter = 1000 \n",
    "models = [\n",
    "    ('K-Nearest Neighbors', KNeighborsRegressor(), {\n",
    "        \"n_neighbors\": range(3, 5, 7), \n",
    "        'weights': ['uniform', 'distance'],\n",
    "        'algorithm': ['auto', 'ball_tree', 'kd_tree', 'brute']\n",
    "    }),\n",
    "    ('Gradient Boosting', GradientBoostingRegressor(random_state=random_state), {\n",
    "        'n_estimators': [50, 100, 150],\n",
    "        'learning_rate': [0.01, 0.1, 0.2],\n",
    "        'max_depth': [3, 5, 7]\n",
    "    }),\n",
    "     ('Decision Tree',  DecisionTreeRegressor(random_state=random_state), {\n",
    "        'criterion': ['squared_error', 'friedman_mse', 'absolute_error', 'poisson'], \n",
    "        'max_depth': [3, 6, 8]\n",
    "    }),\n",
    "    ('Random Forest',  RandomForestRegressor(random_state=random_state), {\n",
    "        'criterion': ['squared_error', 'absolute_error'],\n",
    "        'max_depth': [3, 6, 8], \n",
    "        'n_estimators': [10, 30]\n",
    "    }),\n",
    "]"
   ]
  },
  {
   "cell_type": "code",
   "execution_count": 13,
   "id": "38a1312c-22be-4db7-89a4-12a69fe2c940",
   "metadata": {
    "tags": []
   },
   "outputs": [
    {
     "name": "stdout",
     "output_type": "stream",
     "text": [
      "running K-Nearest Neighbors...\n"
     ]
    },
    {
     "data": {
      "text/html": [
       "<div>\n",
       "<style scoped>\n",
       "    .dataframe tbody tr th:only-of-type {\n",
       "        vertical-align: middle;\n",
       "    }\n",
       "\n",
       "    .dataframe tbody tr th {\n",
       "        vertical-align: top;\n",
       "    }\n",
       "\n",
       "    .dataframe thead th {\n",
       "        text-align: right;\n",
       "    }\n",
       "</style>\n",
       "<table border=\"1\" class=\"dataframe\">\n",
       "  <thead>\n",
       "    <tr style=\"text-align: right;\">\n",
       "      <th></th>\n",
       "      <th>fit_time</th>\n",
       "      <th>score_time</th>\n",
       "      <th>test_neg_mean_squared_error</th>\n",
       "      <th>test_neg_mean_absolute_error</th>\n",
       "      <th>test_r2</th>\n",
       "    </tr>\n",
       "  </thead>\n",
       "  <tbody>\n",
       "    <tr>\n",
       "      <th>mean</th>\n",
       "      <td>0.958916</td>\n",
       "      <td>0.086565</td>\n",
       "      <td>-520945.104332</td>\n",
       "      <td>-538.463882</td>\n",
       "      <td>0.859563</td>\n",
       "    </tr>\n",
       "    <tr>\n",
       "      <th>std</th>\n",
       "      <td>0.314371</td>\n",
       "      <td>0.049576</td>\n",
       "      <td>80345.848916</td>\n",
       "      <td>36.727944</td>\n",
       "      <td>0.024787</td>\n",
       "    </tr>\n",
       "  </tbody>\n",
       "</table>\n",
       "</div>"
      ],
      "text/plain": [
       "      fit_time  score_time  test_neg_mean_squared_error  \\\n",
       "mean  0.958916    0.086565               -520945.104332   \n",
       "std   0.314371    0.049576                 80345.848916   \n",
       "\n",
       "      test_neg_mean_absolute_error   test_r2  \n",
       "mean                   -538.463882  0.859563  \n",
       "std                      36.727944  0.024787  "
      ]
     },
     "metadata": {},
     "output_type": "display_data"
    },
    {
     "name": "stdout",
     "output_type": "stream",
     "text": [
      "running Gradient Boosting...\n"
     ]
    },
    {
     "data": {
      "text/html": [
       "<div>\n",
       "<style scoped>\n",
       "    .dataframe tbody tr th:only-of-type {\n",
       "        vertical-align: middle;\n",
       "    }\n",
       "\n",
       "    .dataframe tbody tr th {\n",
       "        vertical-align: top;\n",
       "    }\n",
       "\n",
       "    .dataframe thead th {\n",
       "        text-align: right;\n",
       "    }\n",
       "</style>\n",
       "<table border=\"1\" class=\"dataframe\">\n",
       "  <thead>\n",
       "    <tr style=\"text-align: right;\">\n",
       "      <th></th>\n",
       "      <th>fit_time</th>\n",
       "      <th>score_time</th>\n",
       "      <th>test_neg_mean_squared_error</th>\n",
       "      <th>test_neg_mean_absolute_error</th>\n",
       "      <th>test_r2</th>\n",
       "    </tr>\n",
       "  </thead>\n",
       "  <tbody>\n",
       "    <tr>\n",
       "      <th>mean</th>\n",
       "      <td>87.815198</td>\n",
       "      <td>0.043461</td>\n",
       "      <td>-11767.095009</td>\n",
       "      <td>-69.842862</td>\n",
       "      <td>0.996832</td>\n",
       "    </tr>\n",
       "    <tr>\n",
       "      <th>std</th>\n",
       "      <td>15.660049</td>\n",
       "      <td>0.012917</td>\n",
       "      <td>2630.227186</td>\n",
       "      <td>6.533291</td>\n",
       "      <td>0.000709</td>\n",
       "    </tr>\n",
       "  </tbody>\n",
       "</table>\n",
       "</div>"
      ],
      "text/plain": [
       "       fit_time  score_time  test_neg_mean_squared_error  \\\n",
       "mean  87.815198    0.043461                -11767.095009   \n",
       "std   15.660049    0.012917                  2630.227186   \n",
       "\n",
       "      test_neg_mean_absolute_error   test_r2  \n",
       "mean                    -69.842862  0.996832  \n",
       "std                       6.533291  0.000709  "
      ]
     },
     "metadata": {},
     "output_type": "display_data"
    },
    {
     "name": "stdout",
     "output_type": "stream",
     "text": [
      "running Decision Tree...\n"
     ]
    },
    {
     "data": {
      "text/html": [
       "<div>\n",
       "<style scoped>\n",
       "    .dataframe tbody tr th:only-of-type {\n",
       "        vertical-align: middle;\n",
       "    }\n",
       "\n",
       "    .dataframe tbody tr th {\n",
       "        vertical-align: top;\n",
       "    }\n",
       "\n",
       "    .dataframe thead th {\n",
       "        text-align: right;\n",
       "    }\n",
       "</style>\n",
       "<table border=\"1\" class=\"dataframe\">\n",
       "  <thead>\n",
       "    <tr style=\"text-align: right;\">\n",
       "      <th></th>\n",
       "      <th>fit_time</th>\n",
       "      <th>score_time</th>\n",
       "      <th>test_neg_mean_squared_error</th>\n",
       "      <th>test_neg_mean_absolute_error</th>\n",
       "      <th>test_r2</th>\n",
       "    </tr>\n",
       "  </thead>\n",
       "  <tbody>\n",
       "    <tr>\n",
       "      <th>mean</th>\n",
       "      <td>1.580274</td>\n",
       "      <td>0.043137</td>\n",
       "      <td>-57611.119230</td>\n",
       "      <td>-163.296206</td>\n",
       "      <td>0.984511</td>\n",
       "    </tr>\n",
       "    <tr>\n",
       "      <th>std</th>\n",
       "      <td>0.257548</td>\n",
       "      <td>0.014953</td>\n",
       "      <td>10015.212231</td>\n",
       "      <td>14.241930</td>\n",
       "      <td>0.002719</td>\n",
       "    </tr>\n",
       "  </tbody>\n",
       "</table>\n",
       "</div>"
      ],
      "text/plain": [
       "      fit_time  score_time  test_neg_mean_squared_error  \\\n",
       "mean  1.580274    0.043137                -57611.119230   \n",
       "std   0.257548    0.014953                 10015.212231   \n",
       "\n",
       "      test_neg_mean_absolute_error   test_r2  \n",
       "mean                   -163.296206  0.984511  \n",
       "std                      14.241930  0.002719  "
      ]
     },
     "metadata": {},
     "output_type": "display_data"
    },
    {
     "name": "stdout",
     "output_type": "stream",
     "text": [
      "running Random Forest...\n"
     ]
    },
    {
     "data": {
      "text/html": [
       "<div>\n",
       "<style scoped>\n",
       "    .dataframe tbody tr th:only-of-type {\n",
       "        vertical-align: middle;\n",
       "    }\n",
       "\n",
       "    .dataframe tbody tr th {\n",
       "        vertical-align: top;\n",
       "    }\n",
       "\n",
       "    .dataframe thead th {\n",
       "        text-align: right;\n",
       "    }\n",
       "</style>\n",
       "<table border=\"1\" class=\"dataframe\">\n",
       "  <thead>\n",
       "    <tr style=\"text-align: right;\">\n",
       "      <th></th>\n",
       "      <th>fit_time</th>\n",
       "      <th>score_time</th>\n",
       "      <th>test_neg_mean_squared_error</th>\n",
       "      <th>test_neg_mean_absolute_error</th>\n",
       "      <th>test_r2</th>\n",
       "    </tr>\n",
       "  </thead>\n",
       "  <tbody>\n",
       "    <tr>\n",
       "      <th>mean</th>\n",
       "      <td>25.657500</td>\n",
       "      <td>0.046849</td>\n",
       "      <td>-18545.332476</td>\n",
       "      <td>-85.850864</td>\n",
       "      <td>0.995005</td>\n",
       "    </tr>\n",
       "    <tr>\n",
       "      <th>std</th>\n",
       "      <td>5.260464</td>\n",
       "      <td>0.015731</td>\n",
       "      <td>5785.896650</td>\n",
       "      <td>10.240212</td>\n",
       "      <td>0.001532</td>\n",
       "    </tr>\n",
       "  </tbody>\n",
       "</table>\n",
       "</div>"
      ],
      "text/plain": [
       "       fit_time  score_time  test_neg_mean_squared_error  \\\n",
       "mean  25.657500    0.046849                -18545.332476   \n",
       "std    5.260464    0.015731                  5785.896650   \n",
       "\n",
       "      test_neg_mean_absolute_error   test_r2  \n",
       "mean                    -85.850864  0.995005  \n",
       "std                      10.240212  0.001532  "
      ]
     },
     "metadata": {},
     "output_type": "display_data"
    }
   ],
   "source": [
    "model_results = {}\n",
    "results = pd.DataFrame({})\n",
    "cross_validate_grid_search = KFold(n_splits=n_folds_grid_search)\n",
    "cross_validate_comparative_analysis = ShuffleSplit(n_splits=n_splits_comparative_analysis, test_size=test_size, random_state=random_state)\n",
    "\n",
    "for model_name, model_object, model_parameters in models:\n",
    "    print(f\"running {model_name}...\")\n",
    "    model_grid_search = GridSearchCV(\n",
    "        estimator=model_object,\n",
    "        param_grid=model_parameters,\n",
    "        scoring=scoring,\n",
    "        n_jobs=-1,\n",
    "        cv=cross_validate_grid_search\n",
    "    )\n",
    "    \n",
    "    approach = Pipeline(steps=[\n",
    "        ('preprocessor', preprocessor),\n",
    "        ('model', model_grid_search)\n",
    "    ])\n",
    "    \n",
    "    # Armazenando os resultados de y_true e y_pred\n",
    "    for train_index, test_index in cross_validate_comparative_analysis.split(X, y):\n",
    "        X_train, X_test = X.iloc[train_index], X.iloc[test_index]\n",
    "        y_train, y_test = y.iloc[train_index], y.iloc[test_index]\n",
    "        \n",
    "        approach.fit(X_train, y_train)\n",
    "        y_pred = approach.predict(X_test)\n",
    "        \n",
    "        model_results[model_name] = {\n",
    "            'y_true': y_test,\n",
    "            'y_pred': y_pred\n",
    "        }\n",
    "\n",
    "    # Avaliando o modelo com cross_validate\n",
    "    scores = cross_validate(\n",
    "        estimator=approach,\n",
    "        X=X,\n",
    "        y=y,\n",
    "        cv=cross_validate_comparative_analysis,\n",
    "        n_jobs=-1,\n",
    "        scoring=metrics\n",
    "    )\n",
    "    \n",
    "    scores_df = pd.DataFrame(scores)\n",
    "    scores_df['model_name'] = model_name\n",
    "    results = pd.concat([results, scores_df], ignore_index=True)\n",
    "    numeric_scores_df = scores_df.select_dtypes(include=['float64', 'int64'])\n",
    "    scores_aggregated = numeric_scores_df.agg(['mean', 'std'])\n",
    "    display(scores_aggregated)"
   ]
  },
  {
   "cell_type": "code",
   "execution_count": 14,
   "id": "5127adfc-d0c6-4f15-b833-bf1fdc91ef1b",
   "metadata": {
    "tags": []
   },
   "outputs": [
    {
     "data": {
      "text/markdown": [
       "### 2.1 Resultados gerais"
      ],
      "text/plain": [
       "<IPython.core.display.Markdown object>"
      ]
     },
     "metadata": {},
     "output_type": "display_data"
    },
    {
     "data": {
      "text/html": [
       "<style type=\"text/css\">\n",
       "#T_6f080 td {\n",
       "  text-align: center;\n",
       "}\n",
       "#T_6f080_row0_col2, #T_6f080_row2_col0, #T_6f080_row4_col1, #T_6f080_row6_col1, #T_6f080_row8_col1 {\n",
       "  color: white;\n",
       "  background-color: gray;\n",
       "  font-weight: bold;\n",
       "}\n",
       "</style>\n",
       "<table id=\"T_6f080\">\n",
       "  <thead>\n",
       "    <tr>\n",
       "      <th class=\"blank\" >&nbsp;</th>\n",
       "      <th class=\"index_name level0\" >model_name</th>\n",
       "      <th id=\"T_6f080_level0_col0\" class=\"col_heading level0 col0\" >Decision Tree</th>\n",
       "      <th id=\"T_6f080_level0_col1\" class=\"col_heading level0 col1\" >Gradient Boosting</th>\n",
       "      <th id=\"T_6f080_level0_col2\" class=\"col_heading level0 col2\" >K-Nearest Neighbors</th>\n",
       "      <th id=\"T_6f080_level0_col3\" class=\"col_heading level0 col3\" >Random Forest</th>\n",
       "    </tr>\n",
       "  </thead>\n",
       "  <tbody>\n",
       "    <tr>\n",
       "      <th id=\"T_6f080_level0_row0\" class=\"row_heading level0 row0\" rowspan=\"2\">fit_time</th>\n",
       "      <th id=\"T_6f080_level1_row0\" class=\"row_heading level1 row0\" >mean</th>\n",
       "      <td id=\"T_6f080_row0_col0\" class=\"data row0 col0\" >1.580274</td>\n",
       "      <td id=\"T_6f080_row0_col1\" class=\"data row0 col1\" >87.815198</td>\n",
       "      <td id=\"T_6f080_row0_col2\" class=\"data row0 col2\" >0.958916</td>\n",
       "      <td id=\"T_6f080_row0_col3\" class=\"data row0 col3\" >25.657500</td>\n",
       "    </tr>\n",
       "    <tr>\n",
       "      <th id=\"T_6f080_level1_row1\" class=\"row_heading level1 row1\" >std</th>\n",
       "      <td id=\"T_6f080_row1_col0\" class=\"data row1 col0\" >0.257548</td>\n",
       "      <td id=\"T_6f080_row1_col1\" class=\"data row1 col1\" >15.660049</td>\n",
       "      <td id=\"T_6f080_row1_col2\" class=\"data row1 col2\" >0.314371</td>\n",
       "      <td id=\"T_6f080_row1_col3\" class=\"data row1 col3\" >5.260464</td>\n",
       "    </tr>\n",
       "    <tr>\n",
       "      <th id=\"T_6f080_level0_row2\" class=\"row_heading level0 row2\" rowspan=\"2\">score_time</th>\n",
       "      <th id=\"T_6f080_level1_row2\" class=\"row_heading level1 row2\" >mean</th>\n",
       "      <td id=\"T_6f080_row2_col0\" class=\"data row2 col0\" >0.043137</td>\n",
       "      <td id=\"T_6f080_row2_col1\" class=\"data row2 col1\" >0.043461</td>\n",
       "      <td id=\"T_6f080_row2_col2\" class=\"data row2 col2\" >0.086565</td>\n",
       "      <td id=\"T_6f080_row2_col3\" class=\"data row2 col3\" >0.046849</td>\n",
       "    </tr>\n",
       "    <tr>\n",
       "      <th id=\"T_6f080_level1_row3\" class=\"row_heading level1 row3\" >std</th>\n",
       "      <td id=\"T_6f080_row3_col0\" class=\"data row3 col0\" >0.014953</td>\n",
       "      <td id=\"T_6f080_row3_col1\" class=\"data row3 col1\" >0.012917</td>\n",
       "      <td id=\"T_6f080_row3_col2\" class=\"data row3 col2\" >0.049576</td>\n",
       "      <td id=\"T_6f080_row3_col3\" class=\"data row3 col3\" >0.015731</td>\n",
       "    </tr>\n",
       "    <tr>\n",
       "      <th id=\"T_6f080_level0_row4\" class=\"row_heading level0 row4\" rowspan=\"2\">test_neg_mean_squared_error</th>\n",
       "      <th id=\"T_6f080_level1_row4\" class=\"row_heading level1 row4\" >mean</th>\n",
       "      <td id=\"T_6f080_row4_col0\" class=\"data row4 col0\" >-57611.119230</td>\n",
       "      <td id=\"T_6f080_row4_col1\" class=\"data row4 col1\" >-11767.095009</td>\n",
       "      <td id=\"T_6f080_row4_col2\" class=\"data row4 col2\" >-520945.104332</td>\n",
       "      <td id=\"T_6f080_row4_col3\" class=\"data row4 col3\" >-18545.332476</td>\n",
       "    </tr>\n",
       "    <tr>\n",
       "      <th id=\"T_6f080_level1_row5\" class=\"row_heading level1 row5\" >std</th>\n",
       "      <td id=\"T_6f080_row5_col0\" class=\"data row5 col0\" >10015.212231</td>\n",
       "      <td id=\"T_6f080_row5_col1\" class=\"data row5 col1\" >2630.227186</td>\n",
       "      <td id=\"T_6f080_row5_col2\" class=\"data row5 col2\" >80345.848916</td>\n",
       "      <td id=\"T_6f080_row5_col3\" class=\"data row5 col3\" >5785.896650</td>\n",
       "    </tr>\n",
       "    <tr>\n",
       "      <th id=\"T_6f080_level0_row6\" class=\"row_heading level0 row6\" rowspan=\"2\">test_neg_mean_absolute_error</th>\n",
       "      <th id=\"T_6f080_level1_row6\" class=\"row_heading level1 row6\" >mean</th>\n",
       "      <td id=\"T_6f080_row6_col0\" class=\"data row6 col0\" >-163.296206</td>\n",
       "      <td id=\"T_6f080_row6_col1\" class=\"data row6 col1\" >-69.842862</td>\n",
       "      <td id=\"T_6f080_row6_col2\" class=\"data row6 col2\" >-538.463882</td>\n",
       "      <td id=\"T_6f080_row6_col3\" class=\"data row6 col3\" >-85.850864</td>\n",
       "    </tr>\n",
       "    <tr>\n",
       "      <th id=\"T_6f080_level1_row7\" class=\"row_heading level1 row7\" >std</th>\n",
       "      <td id=\"T_6f080_row7_col0\" class=\"data row7 col0\" >14.241930</td>\n",
       "      <td id=\"T_6f080_row7_col1\" class=\"data row7 col1\" >6.533291</td>\n",
       "      <td id=\"T_6f080_row7_col2\" class=\"data row7 col2\" >36.727944</td>\n",
       "      <td id=\"T_6f080_row7_col3\" class=\"data row7 col3\" >10.240212</td>\n",
       "    </tr>\n",
       "    <tr>\n",
       "      <th id=\"T_6f080_level0_row8\" class=\"row_heading level0 row8\" rowspan=\"2\">test_r2</th>\n",
       "      <th id=\"T_6f080_level1_row8\" class=\"row_heading level1 row8\" >mean</th>\n",
       "      <td id=\"T_6f080_row8_col0\" class=\"data row8 col0\" >0.984511</td>\n",
       "      <td id=\"T_6f080_row8_col1\" class=\"data row8 col1\" >0.996832</td>\n",
       "      <td id=\"T_6f080_row8_col2\" class=\"data row8 col2\" >0.859563</td>\n",
       "      <td id=\"T_6f080_row8_col3\" class=\"data row8 col3\" >0.995005</td>\n",
       "    </tr>\n",
       "    <tr>\n",
       "      <th id=\"T_6f080_level1_row9\" class=\"row_heading level1 row9\" >std</th>\n",
       "      <td id=\"T_6f080_row9_col0\" class=\"data row9 col0\" >0.002719</td>\n",
       "      <td id=\"T_6f080_row9_col1\" class=\"data row9 col1\" >0.000709</td>\n",
       "      <td id=\"T_6f080_row9_col2\" class=\"data row9 col2\" >0.024787</td>\n",
       "      <td id=\"T_6f080_row9_col3\" class=\"data row9 col3\" >0.001532</td>\n",
       "    </tr>\n",
       "  </tbody>\n",
       "</table>\n"
      ],
      "text/plain": [
       "<pandas.io.formats.style.Styler at 0x7f79295aece0>"
      ]
     },
     "execution_count": 14,
     "metadata": {},
     "output_type": "execute_result"
    }
   ],
   "source": [
    "def highlight_best(s, props=''):\n",
    "    if s.name[1] != 'std':\n",
    "        if s.name[0].endswith('time'):\n",
    "            return np.where(s == np.nanmin(s.values), props, '')\n",
    "        return np.where(s == np.nanmax(s.values), props, '')\n",
    "\n",
    "display(Markdown(\"### 2.1 Resultados gerais\"))\n",
    "(\n",
    "    results\n",
    "    .groupby('model_name')\n",
    "    .agg(['mean', 'std']).T\n",
    "    .style\n",
    "    .apply(highlight_best, props='color:white;background-color:gray;font-weight: bold;', axis=1)\n",
    "    .set_table_styles([{'selector': 'td', 'props': 'text-align: center;'}])\n",
    ")"
   ]
  },
  {
   "cell_type": "markdown",
   "id": "5036b8ed-bfe5-44c0-bfc2-215b6e6db4c2",
   "metadata": {},
   "source": [
    "- Gradient Boosting foi o modelo mais eficaz no geral, com o menor erro e maior coeficiente de determinação, embora tenha um custo computacional mais elevado.\n",
    "- Random Forest também teve um bom desempenho, mas com um tempo de execução menor que o Gradient Boosting, o que pode ser um trade-off interessante.\n",
    "- Decision Tree foi o mais rápido, mas sacrificou precisão em relação aos outros modelos.\n",
    "- KNN teve um desempenho inferior em todos os aspectos, sugerindo que pode não ser a melhor escolha para este problema específico.\n",
    "\n",
    "Esses resultados sugerem que, se o objetivo é maximizar a precisão e há tempo computacional disponível, o Gradient Boosting é a melhor opção. Se o tempo de treinamento for uma restrição, o Random Forest pode ser uma boa alternativa."
   ]
  },
  {
   "cell_type": "code",
   "execution_count": 15,
   "id": "38a47820-08a4-4bd3-b8a8-88a8a8ce31d8",
   "metadata": {},
   "outputs": [
    {
     "data": {
      "image/png": "[encoded data removed]",
      "text/plain": [
       "<Figure size 1400x1200 with 4 Axes>"
      ]
     },
     "metadata": {},
     "output_type": "display_data"
    }
   ],
   "source": [
    "fig, axs = plt.subplots(2, 2, figsize=(14, 12))\n",
    "\n",
    "for i, (model_name, result) in enumerate(model_results.items()):\n",
    "    row = i // 2  # Determina a linha\n",
    "    col = i % 2   # Determina a coluna\n",
    "    \n",
    "    axs[row, col].scatter(result['y_true'], result['y_pred'] - result['y_true'])\n",
    "    axs[row, col].hlines(y=0, xmin=result['y_true'].min(), xmax=result['y_true'].max(), colors='r')\n",
    "    axs[row, col].set_xlabel('True Values')\n",
    "    axs[row, col].set_ylabel('Residuals')\n",
    "    axs[row, col].set_title(f'Residuals Plot for {model_name}')\n",
    "\n",
    "\n",
    "plt.tight_layout()\n",
    "plt.show()"
   ]
  },
  {
   "cell_type": "markdown",
   "id": "71d8f5fb-77b4-4f65-9cde-6ab2ec8fc40a",
   "metadata": {},
   "source": [
    "### 2.2 Persistência do modelo"
   ]
  },
  {
   "cell_type": "code",
   "execution_count": 17,
   "id": "2003213b-5432-4d3d-b6ba-ab7377c518f3",
   "metadata": {
    "tags": []
   },
   "outputs": [
    {
     "name": "stdout",
     "output_type": "stream",
     "text": [
      "Hiper parâmetros do modelo: {'learning_rate': 0.1, 'max_depth': 3, 'n_estimators': 150}\n"
     ]
    }
   ],
   "source": [
    "model_name, model_object, model_parameters  = [foo for foo in models if foo[0] == \"Gradient Boosting\"][0] \n",
    "\n",
    "model_grid_search = GridSearchCV(\n",
    "        estimator=model_object,\n",
    "        param_grid=model_parameters,\n",
    "        scoring=scoring,\n",
    "        n_jobs=-1,\n",
    "        cv=cross_validate_grid_search\n",
    "    )\n",
    "\n",
    "approach = Pipeline([\n",
    "    (\"preprocessor\", preprocessor),\n",
    "    (\"model\", model_grid_search)\n",
    "])\n",
    "\n",
    "approach.fit(X, y)\n",
    "\n",
    "print(f\"Hiper parâmetros do modelo: {approach.steps[1][1].best_params_}\")"
   ]
  },
  {
   "cell_type": "code",
   "execution_count": 18,
   "id": "c9868cb2-a2c8-4963-9535-04667f54f742",
   "metadata": {
    "tags": []
   },
   "outputs": [
    {
     "data": {
      "text/plain": [
       "['../models/model.joblib']"
      ]
     },
     "execution_count": 18,
     "metadata": {},
     "output_type": "execute_result"
    }
   ],
   "source": [
    "joblib.dump(approach, '../models/model.joblib')"
   ]
  }
 ],
 "metadata": {
  "kernelspec": {
   "display_name": "Python 3 (ipykernel)",
   "language": "python",
   "name": "python3"
  },
  "language_info": {
   "codemirror_mode": {
    "name": "ipython",
    "version": 3
   },
   "file_extension": ".py",
   "mimetype": "text/x-python",
   "name": "python",
   "nbconvert_exporter": "python",
   "pygments_lexer": "ipython3",
   "version": "3.10.11"
  }
 },
 "nbformat": 4,
 "nbformat_minor": 5
}
